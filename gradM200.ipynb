{
 "cells": [
  {
   "cell_type": "code",
   "execution_count": 193,
   "metadata": {},
   "outputs": [
    {
     "name": "stdout",
     "output_type": "stream",
     "text": [
      "Populating the interactive namespace from numpy and matplotlib\n"
     ]
    },
    {
     "name": "stderr",
     "output_type": "stream",
     "text": [
      "/usr/local/lib/python3.6/dist-packages/IPython/core/magics/pylab.py:160: UserWarning: pylab import has clobbered these variables: ['xlabel', 'ylabel', 'pylab', 'legend', 'e']\n",
      "`%matplotlib` prevents importing * from pylab and numpy\n",
      "  \"\\n`%matplotlib` prevents importing * from pylab and numpy\"\n"
     ]
    }
   ],
   "source": [
    "%pylab ipympl\n",
    "import matplotlib.pyplot as plt\n",
    "import matplotlib\n",
    "import numpy as np\n",
    "import math as mt\n",
    "import collections\n",
    "import pylab\n",
    "import os\n",
    "import glob\n",
    "from scipy.interpolate import interp2d\n",
    "from scipy.linalg import dft\n",
    "from scipy.special import erf, erfc"
   ]
  },
  {
   "cell_type": "code",
   "execution_count": 194,
   "metadata": {},
   "outputs": [
    {
     "name": "stdout",
     "output_type": "stream",
     "text": [
      "/user/dataA_rpod4/Huaqing/ppmstar/projects/H-core-M25/analysis_Prad-runs\n"
     ]
    }
   ],
   "source": [
    "print(os.getcwd())\n",
    "origdir=os.getcwd()\n",
    "Msun=1.98847*10**6"
   ]
  },
  {
   "cell_type": "code",
   "execution_count": 89,
   "metadata": {},
   "outputs": [],
   "source": [
    "#@input: r,rho,fv,airmu,cldmu,isflat\n",
    "#@output: mass and cloud mass arrays\n",
    "def get_mass(r,rho,fv,airmu,cldmu,isflat):\n",
    "    sgn=1\n",
    "    if r[0] > r[-1]:\n",
    "        sgn = -1.\n",
    "        r=np.flip(r)\n",
    "        rho=np.flip(rho)\n",
    "        fv=np.flip(fv)\n",
    "\n",
    "    mu = fv*cldmu + (1.-fv)*airmu\n",
    "    rhocld = (rho/mu)*cldmu \n",
    "    if isflat==1:\n",
    "        dv = np.gradient(r)\n",
    "    else:\n",
    "        dv = np.gradient(4./3.*np.pi*r**3)\n",
    " \n",
    "    m = np.cumsum(dv*rho)\n",
    "    cldm = np.cumsum(dv*rhocld*fv)\n",
    "    \n",
    "    if sgn == -1.:\n",
    "        r=np.flip(r)\n",
    "        rho=np.flip(rho)\n",
    "        fv=np.flip(fv)\n",
    "        m=np.flip(m)\n",
    "        cldm=np.flip(cldm)  \n",
    "\n",
    "    return [m,cldm]\n",
    "\n",
    "def line_plot(x,y,title,xlabel,ylabel,lab,sty):\n",
    "    if title!=None:\n",
    "        plt.title(title)\n",
    "    plt.xlabel(xlabel)\n",
    "    plt.ylabel(ylabel)\n",
    "    plt.plot(x,y,label=lab,markersize=6,markevery=30,linestyle=sty[0], marker=sty[1], color=sty[2])\n",
    "    plt.legend(loc='upper left')        \n",
    "    return 0 \n",
    "                  \n",
    "def smooth(y,npt):\n",
    "    size=len(y)\n",
    "    y_smooth=[0 for i in range(0,size)]\n",
    "    for i in range(0,size):\n",
    "        ct=0\n",
    "        s=0\n",
    "        for j in range(-npt,npt+1):\n",
    "            if i+j>=0 and i+j<=(size-1):\n",
    "                ct=ct+1\n",
    "                s=s+y[i+j]\n",
    "        y_smooth[i]=s/ct\n",
    "    return np.array(y_smooth) \n",
    "    \n",
    "\n",
    "def find_in_list(element,array):\n",
    "    dev = [abs(array[i]-element) for i in range(0,len(array))]\n",
    "    return dev.index(min(dev))\n",
    "\n",
    "def style_gen():\n",
    "    sty=[]\n",
    "    lsty=['solid','dotted','dashed','dashdot',\n",
    "          (0,(3,1,1,1)),(0,(5,1)),(0,(3,5,1,5)),(0,(3,1,1,1,1,1)),(0,(3,5,1,5))]\n",
    "    color=['blue', 'forestgreen', 'deepskyblue',\n",
    "                  'cornflowerblue', 'lightcoral', 'red',\n",
    "                  'gold', 'darkgoldenrod', 'maroon','grey','black','lightsteelblue']\n",
    "    mk=['D','d','s','*','v','<','>','^','+','.','p','x','h','H','_','X']\n",
    "    sty.append([lsty[0],mk[0],color[0]])\n",
    "    sty.append([lsty[1],mk[1],color[1]])\n",
    "    sty.append([lsty[2],mk[2],color[2]])\n",
    "    sty.append([lsty[3],mk[3],color[3]])\n",
    "    sty.append([lsty[4],mk[4],color[4]])\n",
    "    sty.append([lsty[5],mk[5],color[5]])\n",
    "    sty.append([lsty[6],mk[6],color[6]])\n",
    "    sty.append([lsty[7],mk[7],color[7]])\n",
    "    sty.append([lsty[8],mk[8],color[8]])\n",
    "    sty.append([lsty[0],mk[9],color[9]])\n",
    "    sty.append([lsty[1],mk[10],color[10]])\n",
    "    sty.append([lsty[2],mk[11],color[11]])\n",
    "    sty.append([lsty[3],mk[13],color[11]])\n",
    "    sty.append([lsty[4],mk[3],color[2]])\n",
    "    sty.append([lsty[5],mk[4],color[3]])\n",
    "    sty.append([lsty[6],mk[5],color[4]])\n",
    "    sty.append([lsty[7],mk[6],color[5]])\n",
    "    sty.append([lsty[8],mk[7],color[6]])\n",
    "    \n",
    "    return sty"
   ]
  },
  {
   "cell_type": "code",
   "execution_count": 90,
   "metadata": {},
   "outputs": [
    {
     "name": "stdout",
     "output_type": "stream",
     "text": [
      "dict_keys(['DUMP', 'time', 'dt', 'Nx', 'airmu', 'cldmu', 'fkair', 'fkcld', 'Rgasconst', 'gravconst', 'totallum', 'radin0', 'radout0', 'radmax', 'rhocldtoair0', 'dx'])\n",
      "dict_keys(['IR', 'R', 'Rho0', 'Rho1', 'P0', 'P1', 'FV0', 'FV', 'T9'])\n",
      "/user/dataA_rpod4/Huaqing/ppmstar/projects/H-core-M25/analysis_Prad-runs\n",
      "/user/dataA_rpod4/Huaqing/ppmstar/projects/H-core-M25/analysis_Prad-runs\n"
     ]
    }
   ],
   "source": [
    "#@input: a opened file object of rprof\n",
    "#@output: dictionary of parameters and a list of dictionary {'R':array{1,2,...},'P1':array{1,2,...},...}\n",
    "def getrprof(file):\n",
    "# now read in some parameters from the rprof header\n",
    "    params = {}\n",
    "    while True:\n",
    "        line = file.readline()\n",
    "        if len(line) > 1:\n",
    "            if line.split()[0] == 'DUMP':\n",
    "                params['DUMP'] = float(line.split()[1])\n",
    "                params['time'] = float(line.split()[11].split(',')[0])\n",
    "                break\n",
    "    while True:\n",
    "        line = file.readline()\n",
    "        if len(line) > 1:\n",
    "            if line.split()[0] == 'dt':\n",
    "                params['dt'] = float(line.split()[2].split(',')[0])\n",
    "                break\n",
    "    while True:\n",
    "        line = file.readline()\n",
    "        if len(line) > 1:\n",
    "            if line.split()[0] == 'Nx':\n",
    "                params['Nx'] = float(line.split()[2])\n",
    "                break  \n",
    "# now proceed to reading rprofs\n",
    "    rprofs = []\n",
    "    rprof = []\n",
    "    ifbegin = False\n",
    "    while True:\n",
    "        line = file.readline()\n",
    "        if len(line) > 1:\n",
    "            if  (line.split()[0] == 'IR' or line.split()[0] == 'IRcyl'):\n",
    "                ifbegin = True\n",
    "                rprof = []\n",
    "                rprof.append(line.split())\n",
    "            elif (line.split()[0]=='DATE:' or line.split()[0]=='Line') :\n",
    "                break\n",
    "            elif ifbegin == True:\n",
    "                row_of_data = [float(e) for e in line.split()]\n",
    "                rprof.append(row_of_data)  \n",
    "                if line.split()[0] == '1':\n",
    "                    rprofs.append(rprof)\n",
    "                    ifbegin = False  \n",
    "# rprofs[i] is [[var1,var2,...],[1,2,...],[2,2,...]]\n",
    "#Later, rprofs will be converted to a list of dictionaries. \n",
    "\n",
    "# now read in some parameters after rprofs\n",
    "    while True:\n",
    "        line = file.readline()\n",
    "        if line == '':\n",
    "            break\n",
    "        split = line.split()\n",
    "        for i in range(0,len(split)-1):\n",
    "            if split[i] == 'airmu': params['airmu'] = float(split[i+1])\n",
    "            if split[i] == 'cldmu': params['cldmu'] = float(split[i+1])\n",
    "            if split[i] == 'radout0': params['radout0'] = float(split[i+1])\n",
    "            if split[i] == 'radin0': params['radin0'] = float(split[i+1])\n",
    "            if split[i] == 'radmax': params['radmax'] = float(split[i+1])\n",
    "            if split[i] == 'fkair': params['fkair'] = float(split[i+1])\n",
    "            if split[i] == 'fkcld': params['fkcld'] = float(split[i+1])\n",
    "            if split[i] == 'radconst': params['radconst'] = float(split[i+1])\n",
    "            if split[i] == 'Rgasconst': params['Rgasconst'] = float(split[i+1])\n",
    "            if split[i] == 'totallum': params['totallum'] = float(split[i+1])\n",
    "            if split[i] == 'gravconst': params['gravconst'] = float(split[i+1])\n",
    "    params['rhocldtoair0'] = params['cldmu'] /params['airmu']\n",
    "    params['dx'] = params['radmax'] *2./params['Nx']\n",
    "    \n",
    "    n = len(rprofs)\n",
    "    res=[]\n",
    "    for i in range(n):\n",
    "        panel = rprofs[i]\n",
    "        nrow,nvar = len(panel),len(panel[0])\n",
    "        rprof = collections.defaultdict(list)\n",
    "        var = panel[0]\n",
    "        for r in range(1,nrow):\n",
    "            row = panel[r]\n",
    "            for iv in range(nvar):\n",
    "                rprof[var[iv]].append(row[iv])\n",
    "        for key in rprof:\n",
    "            rprof[key] = np.array(rprof[key])\n",
    "        res.append(rprof)\n",
    "\n",
    "    return [params,res]\n",
    "# End of definition of getrprof\n",
    "#rprofs is a list of dictionaries in that, for instance, rprof[0] consist of \n",
    "# entries like 'IR':[1,2,...,128] .\n",
    "\n",
    "path='/home/user/user/frontera_scratch3_mao1'\n",
    "run='/M207-1000xht-1000xdiff-realEOS-1152'\n",
    "params={}\n",
    "rprofs=[]\n",
    "file=open(path+run+'/prfs/HcoreM025Z0-4218.rprof','rt')\n",
    "params,rprofs=getrprof(file)\n",
    "print(params.keys())\n",
    "print(rprofs[0].keys())\n",
    "print(os.getcwd())\n",
    "print(origdir)"
   ]
  },
  {
   "cell_type": "code",
   "execution_count": 91,
   "metadata": {},
   "outputs": [
    {
     "name": "stdout",
     "output_type": "stream",
     "text": [
      "/user/dataA_rpod4/Huaqing/ppmstar/projects/H-core-M25/analysis_Prad-runs\n",
      "dict_keys(['ir', 'fvlg', 'fvlgmin', 'fvlgmax', 'fvlgdrms', 'UdP1', 'UdP1min', 'UdP1max', 'UdP1drms'])\n",
      "<class 'numpy.ndarray'>\n",
      "/user/dataA_rpod4/Huaqing/ppmstar/projects/H-core-M25/analysis_Prad-runs\n",
      "/user/dataA_rpod4/Huaqing/ppmstar/projects/H-core-M25/analysis_Prad-runs\n"
     ]
    }
   ],
   "source": [
    "#@input: a file object \n",
    "#@output: a list of dictionary, each dictionary is {\"var\":array([100,99,...,1])}\n",
    "def getmomsprof(file):         \n",
    "    rprofs = []\n",
    "    rprof = []\n",
    "    ifbegin = False\n",
    "    while True:\n",
    "        line = file.readline()\n",
    "        if (\"\" == line):\n",
    "            break\n",
    "        if len(line) > 1:\n",
    "            if  (line.split()[0] == 'ir'):\n",
    "                ifbegin = True\n",
    "                rprof = []\n",
    "                rprof.append(line.split())\n",
    "            elif ifbegin == True:\n",
    "                row_of_data = [float(e) for e in line.split()]\n",
    "                rprof.append(row_of_data)  \n",
    "                if line.split()[0] == '1':\n",
    "                    rprofs.append(rprof)\n",
    "                    ifbegin = False\n",
    "# now rprofs is a list of rprof panels\n",
    "# convert it a list of dictionary\n",
    "    n = len(rprofs)\n",
    "    res= []\n",
    "    for i in range(n):\n",
    "        panel=rprofs[i]\n",
    "        nr,nvar = len(panel),len(panel[0])\n",
    "        rprof = collections.defaultdict(list)\n",
    "        var = panel[0]\n",
    "        for ivar in range(nvar):\n",
    "            data_list = np.array([])\n",
    "            for ii in range(1,nr):\n",
    "                data_list=np.append(data_list,panel[ii][ivar])\n",
    "            key = var[ivar]+str('1') if (var[ivar] in rprof.keys()) else var[ivar]\n",
    "            rprof[key] = data_list\n",
    "        res.append(rprof)\n",
    "    return res\n",
    "\n",
    "print(origdir)\n",
    "path='/home/user/user/frontera_scratch3_mao1'\n",
    "run='/M207-1000xht-1000xdiff-realEOS-1152'\n",
    "file=open(path+run+'/prfs/frombqavs/HcoreM025Z0-BQav2000.rprof','rt')\n",
    "rprofs=getmomsprof(file)\n",
    "print(rprofs[4].keys())\n",
    "print(type(rprofs[4]['UdP1max']))\n",
    "print(os.getcwd())\n",
    "print(origdir)"
   ]
  },
  {
   "cell_type": "code",
   "execution_count": 92,
   "metadata": {},
   "outputs": [],
   "source": [
    "def avmomsprof(run,dmprange):\n",
    "    runname=run.split('/')[-1].split('-')[0]\n",
    "    print('run:',runname)\n",
    "    os.chdir(run+'/prfs/frombqavs')\n",
    "    prfs = glob.glob('*.rprof')\n",
    "    ndumps = len(prfs)\n",
    "    runid = prfs[0][:-10]\n",
    "    start,end,inc = dmprange\n",
    "    avmomsprofs=[]\n",
    "    momsprofs=[]\n",
    "    count=0\n",
    "    for dump in range(start,end+1,inc):\n",
    "        num = str(dump).rjust(4,'0')\n",
    "        if not os.path.exists(runid+num+'.rprof'):\n",
    "            print('Dump '+num+' does not exist.')\n",
    "        else:\n",
    "            file = open(runid+num+'.rprof','rt')\n",
    "            if dump == start:\n",
    "                avmomsprofs = getmomsprof(file)\n",
    "#                print((avmomsprofs[0]))\n",
    "            else:\n",
    "                momsprofs = getmomsprof(file)\n",
    "                for irprof in range(len(momsprofs)):\n",
    "                    for key in momsprofs[irprof].keys():\n",
    "                        avmomsprofs[irprof][key]=avmomsprofs[irprof][key]+ \\\n",
    "                            momsprofs[irprof][key]\n",
    "            count = count + 1      \n",
    "\n",
    "    for irprof in range(0,len(avmomsprofs)):\n",
    "        for key in avmomsprofs[irprof].keys():\n",
    "            avmomsprofs[irprof][key]=avmomsprofs[irprof][key]/count  \n",
    "    return avmomsprofs"
   ]
  },
  {
   "cell_type": "code",
   "execution_count": 93,
   "metadata": {},
   "outputs": [],
   "source": [
    "def avrprof(run,dmprange):\n",
    "    runname=run.split('/')[-1].split('-')[0]\n",
    "    print('run:',runname)\n",
    "    os.chdir(run+'/prfs')\n",
    "    prfs = glob.glob('*.rprof')\n",
    "    ndumps = len(prfs)\n",
    "    runid = prfs[0][:-10]\n",
    "    dump = dmprange[0]\n",
    "    start,end,inc = dmprange\n",
    "    count=0\n",
    "    for dump in range(start,end+1,inc):\n",
    "        num = str(dump).rjust(4,'0')\n",
    "        if not os.path.exists(runid+num+'.rprof'):\n",
    "            print('Dump '+num+' does not exist.')\n",
    "        else:\n",
    "            file = open(runid+num+'.rprof','rt')\n",
    "            if dump == start:\n",
    "                avparams,avrprofs = getrprof(file)\n",
    "            else:\n",
    "                params,rprofs = getrprof(file)\n",
    "                for key in params.keys():\n",
    "                    avparams[key]=avparams[key]+params[key]\n",
    "                for irprof in range(len(rprofs)):\n",
    "                    for key in rprofs[irprof].keys():\n",
    "                        avrprofs[irprof][key]=avrprofs[irprof][key]+rprofs[irprof][key] \n",
    "            count+=1                 \n",
    "\n",
    "    for key in avparams.keys():\n",
    "        avparams[key]=avparams[key]/count\n",
    "    for irprof in range(len(avrprofs)):\n",
    "        for key in avrprofs[irprof].keys():\n",
    "            avrprofs[irprof][key]=avrprofs[irprof][key]/count \n",
    "    return [avparams,avrprofs]"
   ]
  },
  {
   "cell_type": "code",
   "execution_count": 94,
   "metadata": {},
   "outputs": [],
   "source": [
    "def momscompare(runs,ieos,iraddiff,dumps):\n",
    "    origdir=os.getcwd()\n",
    "    print(origdir) \n",
    "    x,y = [],[]\n",
    "    xlabel,ylabel=[],[]\n",
    "    legend,title=[],[]\n",
    "    sty=style_gen()\n",
    "    for irun,run in enumerate(runs):\n",
    "        runname=run.split('/')[-2].split('-')[0]\n",
    "        print('run:',runname)\n",
    "        os.chdir(run+'/prfs/frombqavs')\n",
    "        prfs = glob.glob('*.rprof')\n",
    "        ndumps = len(prfs)\n",
    "        runid = prfs[0][:-10]\n",
    "        for dump in dumps[irun]:\n",
    "            momsprofs = avmomsprof(run,dump)\n",
    "            params,rprofs = avrprof(run,dump)\n",
    "            totallum= params['totallum']\n",
    "            time=params['time']\n",
    "            hours=int(time/(60*60))\n",
    "            idump=str(dump[0])+','+str(dump[1])\n",
    "#let's just use the first panel of radial profile\n",
    "            momsprof = momsprofs[0]\n",
    "            ir = momsprof['ir']\n",
    "            tot = ir[0]\n",
    "            r = params['radmax']*ir/tot\n",
    "            vort=momsprof['vort-sph']\n",
    "  \n",
    "            x.append(r)\n",
    "            xlabel.append(r'$R/\\mathrm{Mm}$')    \n",
    "            y.append(vort)\n",
    "            ylabel.append(r'$ vort$')\n",
    "            legend.append(runname+r' $vort$ '+str(hours)+' hrs')      \n",
    "    return [x,xlabel,y,ylabel,legend] "
   ]
  },
  {
   "cell_type": "code",
   "execution_count": 95,
   "metadata": {},
   "outputs": [
    {
     "name": "stdout",
     "output_type": "stream",
     "text": [
      "/user/dataA_rpod4/Huaqing/ppmstar/projects/H-core-M25/analysis_Prad-runs\n",
      "run: M212\n",
      "run: \n",
      "run: \n",
      "run: M208\n",
      "run: \n",
      "run: \n",
      "run: M207\n",
      "run: \n",
      "run: \n",
      "run: M209\n",
      "run: \n",
      "run: \n",
      "run: M252\n",
      "run: \n",
      "run: \n"
     ]
    },
    {
     "data": {
      "application/vnd.jupyter.widget-view+json": {
       "model_id": "",
       "version_major": 2,
       "version_minor": 0
      },
      "text/plain": [
       "Canvas(toolbar=Toolbar(toolitems=[('Home', 'Reset original view', 'home', 'home'), ('Back', 'Back to previous …"
      ]
     },
     "metadata": {},
     "output_type": "display_data"
    },
    {
     "name": "stdout",
     "output_type": "stream",
     "text": [
      "/user/dataA_rpod4/Huaqing/ppmstar/projects/H-core-M25/analysis_Prad-runs\n"
     ]
    },
    {
     "name": "stderr",
     "output_type": "stream",
     "text": [
      "/usr/local/lib/python3.6/dist-packages/ipykernel_launcher.py:25: RuntimeWarning: divide by zero encountered in log10\n",
      "/usr/local/lib/python3.6/dist-packages/ipykernel_launcher.py:27: RuntimeWarning: divide by zero encountered in log10\n",
      "/usr/local/lib/python3.6/dist-packages/ipykernel_launcher.py:29: RuntimeWarning: divide by zero encountered in log10\n",
      "/usr/local/lib/python3.6/dist-packages/ipykernel_launcher.py:31: RuntimeWarning: divide by zero encountered in log10\n",
      "/usr/local/lib/python3.6/dist-packages/ipykernel_launcher.py:33: RuntimeWarning: divide by zero encountered in log10\n"
     ]
    }
   ],
   "source": [
    "sty=style_gen()\n",
    "path1='/home/user/user/frontera_scratch3_mao1'\n",
    "runM213moms='/M213-1000xht-1000xdiff-realEOS-768/'\n",
    "runM207moms='/M207-1000xht-1000xdiff-realEOS-1152/'\n",
    "runM210moms='/M210-1000xht-1000xdiff-realEOS-1728/'\n",
    "\n",
    "runM212moms='/M212-31.62xht-31.62xdiff-realEOS-1152/'\n",
    "runM208moms='/M208-100xht-100xdiff-realEOS-1152/'\n",
    "runM209moms='/M209-3162.3xht-3162.3xdiff-realEOS-1152/'\n",
    "runM252moms='/M252-10000x-896-fixKappa/'\n",
    "\n",
    "runs=[path1+runM212moms,path1+runM208moms,path1+runM207moms,path1+runM209moms,path1+runM252moms]\n",
    "ieos=[1,1,1]\n",
    "iraddiff=[1.,100,1000]\n",
    "#iraddiff=[0,0]\n",
    "null=[]\n",
    "a=[[1000,1000,1]]\n",
    "b=[[1640,1640,1]]\n",
    "c=[[2000,2000,1]]\n",
    "d=[[500,500,1]]\n",
    "dumps=[a,b,c,b,d]\n",
    "\n",
    "x1,xlabel1,y1,ylabel1,legend1=momscompare(runs,ieos,iraddiff,dumps)\n",
    "plt.figure()\n",
    "line_plot(x1[0],np.log10(y1[0]),None,xlabel1[0],ylabel1[0],legend1[0],sty[0])\n",
    "#plt.hlines(3e-6,0,2500)\n",
    "line_plot(x1[1],np.log10(y1[1]),None,xlabel1[1],ylabel1[1],legend1[1],sty[1])\n",
    "#plt.hlines(6e-6,0,2500)\n",
    "line_plot(x1[2],np.log10(y1[2]),None,xlabel1[2],ylabel1[2],legend1[2],sty[2])\n",
    "#plt.hlines(1.9e-5,0,2500)\n",
    "line_plot(x1[3],np.log10(y1[3]),None,xlabel1[3],ylabel1[3],legend1[3],sty[3])\n",
    "#plt.hlines(2.1e-5,0,2500)\n",
    "line_plot(x1[4],np.log10(y1[4]),None,xlabel1[4],ylabel1[4],legend1[4],sty[4])\n",
    "#plt.hlines(2.4e-5,0,2500)\n",
    "#plt.ylim(0,5e-5)\n",
    "plt.xlim(1500,2500)\n",
    "plt.legend()\n",
    "print(origdir)"
   ]
  },
  {
   "cell_type": "code",
   "execution_count": 96,
   "metadata": {},
   "outputs": [
    {
     "data": {
      "application/vnd.jupyter.widget-view+json": {
       "model_id": "",
       "version_major": 2,
       "version_minor": 0
      },
      "text/plain": [
       "Canvas(toolbar=Toolbar(toolitems=[('Home', 'Reset original view', 'home', 'home'), ('Back', 'Back to previous …"
      ]
     },
     "metadata": {},
     "output_type": "display_data"
    }
   ],
   "source": [
    "plt.close()\n",
    "plt.figure()\n",
    "lum=np.array([31.62,100,1000,3162,10000])\n",
    "vort=np.array([3e-6,6e-6,1.9e-5,2.1e-5,2.4e-5])\n",
    "plt.plot(np.log10(lum),np.log10(vort))\n",
    "plt.xlabel('log10 of boosting factor')\n",
    "plt.ylabel('log10 of vort')\n",
    "plt.show()"
   ]
  },
  {
   "cell_type": "code",
   "execution_count": 97,
   "metadata": {},
   "outputs": [
    {
     "name": "stdout",
     "output_type": "stream",
     "text": [
      "/user/frontera_scratch3_mao1/M252-10000x-896-fixKappa/prfs\n",
      "run: M213\n",
      "run: \n",
      "run: \n",
      "run: M207\n",
      "run: \n",
      "run: \n",
      "run: M210\n",
      "run: \n",
      "run: \n",
      "run: M284\n",
      "run: \n",
      "run: \n"
     ]
    },
    {
     "data": {
      "application/vnd.jupyter.widget-view+json": {
       "model_id": "",
       "version_major": 2,
       "version_minor": 0
      },
      "text/plain": [
       "Canvas(toolbar=Toolbar(toolitems=[('Home', 'Reset original view', 'home', 'home'), ('Back', 'Back to previous …"
      ]
     },
     "metadata": {},
     "output_type": "display_data"
    },
    {
     "name": "stderr",
     "output_type": "stream",
     "text": [
      "/usr/local/lib/python3.6/dist-packages/ipykernel_launcher.py:20: RuntimeWarning: divide by zero encountered in log10\n",
      "/usr/local/lib/python3.6/dist-packages/ipykernel_launcher.py:21: RuntimeWarning: divide by zero encountered in log10\n",
      "/usr/local/lib/python3.6/dist-packages/ipykernel_launcher.py:22: RuntimeWarning: divide by zero encountered in log10\n",
      "/usr/local/lib/python3.6/dist-packages/ipykernel_launcher.py:23: RuntimeWarning: divide by zero encountered in log10\n"
     ]
    },
    {
     "name": "stdout",
     "output_type": "stream",
     "text": [
      "/user/dataA_rpod4/Huaqing/ppmstar/projects/H-core-M25/analysis_Prad-runs\n"
     ]
    }
   ],
   "source": [
    "sty=style_gen()\n",
    "path1='/home/user/user/frontera_scratch3_mao1'\n",
    "path2='/home/user/user/frontera_scratch3_pwoodwar'\n",
    "runM213moms='/M213-1000xht-1000xdiff-realEOS-768/'\n",
    "runM207moms='/M207-1000xht-1000xdiff-realEOS-1152/'\n",
    "runM210moms='/M210-1000xht-1000xdiff-realEOS-1728/'\n",
    "runM284moms='/M284-2688-Gauss3.5-48MmFWHM-realEOS-1000xhtdiff/'\n",
    "\n",
    "runs=[path1+runM213moms,path1+runM207moms,path1+runM210moms,path2+runM284moms]\n",
    "ieos=[1,1,1]\n",
    "iraddiff=[1000.,1000,1000]\n",
    "a=[[2000,2000,1]]\n",
    "b=[[2000,2000,1]]\n",
    "c=[[2000,2000,1]]\n",
    "d=[[300,300,1]]\n",
    "dumps=[a,b,c,d]\n",
    "\n",
    "x1,xlabel1,y1,ylabel1,legend1=momscompare(runs,ieos,iraddiff,dumps)\n",
    "plt.figure()\n",
    "line_plot(x1[0],np.log10(y1[0]),None,xlabel1[0],'log10 '+ylabel1[0],legend1[0],sty[0])\n",
    "line_plot(x1[1],np.log10(y1[1]),None,xlabel1[1],'log10 '+ylabel1[1],legend1[1],sty[1])\n",
    "line_plot(x1[2],np.log10(y1[2]),None,xlabel1[2],'log10 '+ylabel1[2],legend1[2],sty[2])\n",
    "line_plot(x1[3],np.log10(y1[3]),None,xlabel1[3],'log10 '+ylabel1[3],legend1[3],sty[3])\n",
    "plt.legend(handlelength=5)\n",
    "print(origdir)\n",
    "os.chdir('/home/user/user/dataA_rpod4/Huaqing/ppmstar/projects/H-core-M25/analysis_Prad-runs')\n",
    "plt.savefig('vortRes'+'.pdf',bbox_inches = \"tight\")"
   ]
  },
  {
   "cell_type": "code",
   "execution_count": 98,
   "metadata": {},
   "outputs": [],
   "source": [
    "def momscompare(runs,ieos,iraddiff,dumps):\n",
    "    origdir=os.getcwd()\n",
    "    print(origdir) \n",
    "    x,y = [],[]\n",
    "    xlabel,ylabel=[],[]\n",
    "    legend,title=[],[]\n",
    "    sty=style_gen()\n",
    "    for irun,run in enumerate(runs):\n",
    "        runname=run.split('/')[-2].split('-')[0]\n",
    "        print('run:',runname)\n",
    "        os.chdir(run+'/prfs/frombqavs')\n",
    "        prfs = glob.glob('*.rprof')\n",
    "        ndumps = len(prfs)\n",
    "        runid = prfs[0][:-10]\n",
    "        for dump in dumps[irun]:\n",
    "            momsprofs = avmomsprof(run,dump)\n",
    "            params,rprofs = avrprof(run,dump)\n",
    "            totallum= params['totallum']\n",
    "            time=params['time']\n",
    "            hours=int(time/(60*60))\n",
    "            idump=str(dump[0])+','+str(dump[1])\n",
    "#let's just use the first panel of radial profile\n",
    "            momsprof = momsprofs[0]\n",
    "            ir = momsprof['ir']\n",
    "            tot = ir[0]\n",
    "            r = params['radmax']*ir/tot\n",
    "            vort=momsprof['vort-sph']\n",
    "            rho = momsprof['Diverg-U']\n",
    "            enk = momsprof['fvX1-fv4']\n",
    "            \n",
    "            print(hours)\n",
    "            r,enk=np.flip(r),np.flip(enk)\n",
    "            dr=abs(r[-1]-r[0])/(len(r)-1.)\n",
    "            tmp=enk*4.*mt.pi*r**2\n",
    "            enksum=np.cumsum(tmp*dr)\n",
    "            r,enk=np.flip(r),np.flip(enk)\n",
    "            enksum=np.flip(enksum)\n",
    "            tmp=np.flip(tmp)\n",
    "  \n",
    "            x.append(r)\n",
    "            xlabel.append(r'$R/\\mathrm{Mm}$')    \n",
    "            y.append(enk*rho*4.*np.pi*r**2/(2.*totallum*time))\n",
    "            ylabel.append(r'$ dE_{kin}/dR$')\n",
    "            legend.append(runname+r' $dE_{kin}/dR$ '+str(hours)+' hrs')      \n",
    "    return [x,xlabel,y,ylabel,legend]               "
   ]
  },
  {
   "cell_type": "code",
   "execution_count": 99,
   "metadata": {},
   "outputs": [
    {
     "name": "stdout",
     "output_type": "stream",
     "text": [
      "/user/dataA_rpod4/Huaqing/ppmstar/projects/H-core-M25/analysis_Prad-runs\n",
      "run: M201\n",
      "run: M201\n",
      "run: M201\n",
      "2556\n",
      "run: M204\n",
      "run: M204\n",
      "run: M204\n",
      "2470\n",
      "run: M207\n",
      "run: M207\n",
      "run: M207\n",
      "2470\n"
     ]
    },
    {
     "data": {
      "application/vnd.jupyter.widget-view+json": {
       "model_id": "",
       "version_major": 2,
       "version_minor": 0
      },
      "text/plain": [
       "Canvas(toolbar=Toolbar(toolitems=[('Home', 'Reset original view', 'home', 'home'), ('Back', 'Back to previous …"
      ]
     },
     "metadata": {},
     "output_type": "display_data"
    },
    {
     "name": "stdout",
     "output_type": "stream",
     "text": [
      "/user/dataA_rpod4/Huaqing/ppmstar/projects/H-core-M25/analysis_Prad-runs\n"
     ]
    }
   ],
   "source": [
    "path1='/home/user/user/frontera_scratch3_mao1'\n",
    "runM201moms='/M201-1000xht-0xdiff-realEOS-1152/M201-moms4ekin'\n",
    "runM204moms='/M204-1000xht-100xdiff-realEOS-1152/M204-moms4ekin'\n",
    "runM207moms='/M207-1000xht-1000xdiff-realEOS-1152/M207-moms4ekin'\n",
    "runs=[path1+runM201moms,path1+runM204moms,path1+runM207moms,]\n",
    "ieos=[1,1,1]\n",
    "iraddiff=[1.,100,1000]\n",
    "#iraddiff=[0,0]\n",
    "null=[]\n",
    "a=[[2700,4200,100]]\n",
    "b=[[2700,4200,100]]\n",
    "dumps=[a,b,b]\n",
    "x1,xlabel1,y1,ylabel1,legend1=momscompare(runs,ieos,iraddiff,dumps)\n",
    "plt.figure()\n",
    "plt.plot(x1[0],y1[0])\n",
    "plt.plot(x1[1],y1[1])\n",
    "plt.plot(x1[2],y1[2])\n",
    "print(origdir)"
   ]
  },
  {
   "cell_type": "code",
   "execution_count": 100,
   "metadata": {},
   "outputs": [],
   "source": [
    "def kappa_func(xh,tlog):\n",
    "    ffit_par0 = -0.21193353\n",
    "    ffit_par1 = 4.58822546\n",
    "    ffit_par2 = -33.25338915\n",
    "    ffit_par3 = 80.22027956\n",
    "    kkappa_max = 0.3420244849271527\n",
    "#    kkappa_max = 0.38\n",
    "    kkappa_min = 0.32009677883170023\n",
    "    kkappa_tot_max = 0.66\n",
    "    llogT_width = 13.0\n",
    "    llogT0 = 7.06\n",
    "    cappalog_fit = ffit_par0*tlog + ffit_par1\n",
    "    cappalog_fit = cappalog_fit*tlog + ffit_par2\n",
    "    cappalog_fit = cappalog_fit*tlog + ffit_par3\n",
    "    c_corr = 1.+0.5*(kkappa_max/kkappa_min-1.) \\\n",
    "     *(1.-np.tanh(llogT_width*(tlog-llogT0)))    \n",
    "    cappa_es = 0.2*(1.+xh)\n",
    "    cappa = 10.**cappalog_fit*cappa_es/(c_corr*kkappa_min)\n",
    "    cappa[kkappa_tot_max < cappa]=kkappa_tot_max\n",
    "    return cappa\n",
    "\n",
    "def h_fraction(fv,airmu,cldmu,ffkair,ffkcld):\n",
    "    xh = 0.5*(fv*ffkcld+(1.-fv)*ffkair)/  \\\n",
    "       (fv*cldmu+(1.-fv)*airmu)\n",
    "    return xh"
   ]
  },
  {
   "cell_type": "code",
   "execution_count": 101,
   "metadata": {},
   "outputs": [],
   "source": [
    "#compute thermodynamical derivatives that appear in N2 formula (Zahn 1997)\n",
    "def get_delad(rho,t,mu,a):\n",
    "#delad=(dlnT/dlnp)_(s,mu)\n",
    "    t3=t*t*t\n",
    "    rgas=8.3144617\n",
    "    rbymu=rgas/mu\n",
    "    v=1./rho\n",
    "    delad=(1.5*rbymu+4.*a*v*t3)*rbymu/(rbymu*v+4.*a*t3*v*v/3.)+rbymu*rho+4.*a*t3/3.\n",
    "    delad=1./delad\n",
    "    p=rbymu*rho*t+a*t3*t/3.\n",
    "    delad=delad*p/t\n",
    "    return delad\n",
    "\n",
    "def get_delta(rho,t,mu,a):\n",
    "#delta=-(dlnrho/dlnT)_(p,mu)\n",
    "    rgas=8.3144617\n",
    "    rbymu=rgas/mu\n",
    "    t3=t*t*t\n",
    "    delta=rbymu*rho+4.*a*t3/3.\n",
    "    delta=delta/(rbymu*t)\n",
    "    delta=delta*t/rho\n",
    "    return delta\n",
    "\n",
    "def get_phi(rho,t,mu,a):\n",
    "#phi=(dlnrho/dlnmu)_(p,T)\n",
    "    phi=1.\n",
    "    return phi\n",
    "\n",
    "def get_dpdrho_s(rho,t,mu,a):\n",
    "#sound speed square\n",
    "    t4=t*t*t*t\n",
    "    gm=5./3.\n",
    "    rgas=8.3144617\n",
    "    rbymu=rgas/mu\n",
    "    p=rbymu*rho*t+a*t4/3.\n",
    "    dpdrho_s=(p+a*t4)**2/(rbymu*rho*t/(gm-1.)+4.*a*t4)\n",
    "    dpdrho_s=dpdrho_s/rho+rbymu*t\n",
    "    return dpdrho_s\n",
    "    \n",
    "def get_cp(rho,t,mu,a):\n",
    "#specific heat capacity\n",
    "    t3=t*t*t\n",
    "    gm=5./3.\n",
    "    gm1inv=1./(gm-1.)\n",
    "    rgas=8.3144617\n",
    "    rbymu=rgas/mu\n",
    "    v=1./rho\n",
    "    p=rbymu*rho*t+a*t3*t/3.\n",
    "    cp=rbymu*gm1inv+4.*a*t3*v\n",
    "    cp=cp+(a*t3*t+p)*v*v*(rbymu*rho+4.*a*t3/3.)/(rbymu*t)\n",
    "    return cp\n",
    "\n",
    "def get_Hp(p,g,rho,G):\n",
    "    Hp=-p/(rho*g)\n",
    "#     for i in range(0,len(p)):\n",
    "#         if g[i] >= 0:\n",
    "# #            Hp.append(mt.sqrt(p[i]/G/rho[i]**2))\n",
    "#             Hp=np.append(Hp,mt.sqrt(p[i]/G/rho[i]**2))\n",
    "#         else:\n",
    "# #            Hp.append(min(mt.sqrt(p[i]/G/rho[i]**2),-p[i]/rho[i]/g[i]))\n",
    "#             Hp=np.append(Hp,min(mt.sqrt(p[i]/G/rho[i]**2),-p[i]/rho[i]/g[i]))   \n",
    "    return Hp\n",
    "\n",
    "def get_s(rho,t,mu,a):\n",
    "    rgas=8.3144617\n",
    "    rbymu=rgas/mu\n",
    "    s=-rbymu*np.log(rho)+1.5*rbymu*np.log(t)+4*a*t*t*t/(3.*rho)\n",
    "    return s\n",
    "    "
   ]
  },
  {
   "cell_type": "code",
   "execution_count": 102,
   "metadata": {},
   "outputs": [
    {
     "data": {
      "application/vnd.jupyter.widget-view+json": {
       "model_id": "",
       "version_major": 2,
       "version_minor": 0
      },
      "text/plain": [
       "Canvas(toolbar=Toolbar(toolitems=[('Home', 'Reset original view', 'home', 'home'), ('Back', 'Back to previous …"
      ]
     },
     "metadata": {},
     "output_type": "display_data"
    }
   ],
   "source": [
    "def rad_dif(params,rprofs,kradfac):\n",
    "    rprof = rprofs[0]\n",
    "    rghi = range(0,len(rprof['IR']))\n",
    "    rg = range(0,len(rprof['IR']),2)\n",
    "    rglo = range(0,int(len(rprof['IR'])/2))\n",
    "    Rhi=rprof['R']\n",
    "    Rlo=np.array([(Rhi[i] + Rhi[i+1])/2. for i in rg])\n",
    "    Rho0hi=rprof['Rho0']\n",
    "    Rho0lo=np.array([(Rho0hi[i] + Rho0hi[i+1])/2. for i in rg])\n",
    "    tmp=rprof['Rho1']\n",
    "    Rho1=np.array([(tmp[i] + tmp[i+1])/2. for i in rg])\n",
    "    Rho=Rho0lo+Rho1\n",
    "    FVhi=rprof['FV']\n",
    "    FVlo=np.array([(FVhi[i] + FVhi[i+1])/2. for i in rg])\n",
    "    tmp=rprof['T9']\n",
    "    T9=np.array([(tmp[i] + tmp[i+1])/2. for i in rg])\n",
    "    tlog=np.log10(T9)+9. \n",
    "    airmu = params['airmu']\n",
    "    cldmu = params['cldmu']\n",
    "    fkair = params['fkair']\n",
    "    fkcld = params['fkcld']\n",
    "    Rgasconst = params['Rgasconst']\n",
    "    if 'radconst' in params:\n",
    "        radconst = params['radconst']\n",
    "    else:\n",
    "        radconst = 756.5767;\n",
    "    gamma=5./3.\n",
    "    clight = 299.792458\n",
    "    dT94=np.gradient(T9**4)\n",
    "    drad=np.gradient(Rlo)\n",
    "    X=h_fraction(FVlo,airmu,cldmu,fkair,fkcld)\n",
    "    muav= FVlo*cldmu+(1.-FVlo)*airmu\n",
    "    tlog = np.log10(T9*10**9)\n",
    "    cappa=kappa_func(X,tlog)\n",
    "#     cappa=kappa_func28(xh,tlog,Rho)\n",
    "    flx = -clight * radconst*dT94\n",
    "    denom = 3.* cappa * drad * Rho\n",
    "    flx = flx / denom\n",
    "    radflx=4.*mt.pi*flx*Rlo**2*0.00000000001*kradfac\n",
    "#compute cp specific heat capacity\n",
    "    at3byrho=radconst*T9*T9*T9/Rho\n",
    "#        cpav=Rgasconst/((gamma-1.)*muav)+(5.+4.*muav*at3byrho/(3.*Rgasconst))\\\n",
    "#        *at3byrho\n",
    "    cpav= get_cp(Rho,T9,muav,radconst)\n",
    "    rad=Rlo\n",
    "\n",
    "    return  T9,cappa,rad,radflx\n",
    "\n",
    "path1='/home/user/user/frontera_scratch3_mao1'\n",
    "path2='/home/user/user/niagara_scratch_fherwig'\n",
    "runM207='/M207-1000xht-1000xdiff-realEOS-1152'\n",
    "runV4='/V4-100xL-100xK-1152-TyroneM1e4_0.1'\n",
    "runM252='/M252-10000x-896'\n",
    "runpath = path1 + runM207\n",
    "os.chdir(runpath+'/prfs/')\n",
    "prfs = glob.glob('*.rprof')\n",
    "ndumps = len(prfs)\n",
    "dumps = [int(prfs[i][12:16]) for i in range(0,ndumps)]\n",
    "dumps.sort()\n",
    "nbegin = dumps[0]\n",
    "nend = dumps[-1]\n",
    "runid = prfs[0][:-10]\n",
    "plt.close()\n",
    "plt.grid()\n",
    "plt.figure()\n",
    "for nnum in[0,]:\n",
    "    num = str(nnum).rjust(4,'0')\n",
    "    file = open(runid+num+'.rprof','rt')\n",
    "    params,rprofs = getrprof(file)\n",
    "    tlog,cappa,r,radflx = rad_dif(params,rprofs,1000)\n",
    "    plt.xlabel('radius')\n",
    "    line_plot(r,cappa,None,'R','kappa ','dump:'+str(num),[':','*','b'])\n",
    "plt.legend(loc='lower right',prop={'size': 8})\n",
    "os.chdir(origdir)\n",
    "plt.show()"
   ]
  },
  {
   "cell_type": "code",
   "execution_count": 103,
   "metadata": {},
   "outputs": [],
   "source": [
    "def compare(runs,ieos,iraddiff,dumps):\n",
    "    origdir=os.getcwd()\n",
    "    print(origdir) \n",
    "    x,y = [],[]\n",
    "    xlabel,ylabel = [],[]\n",
    "    legend,title=[],[]\n",
    "    sty=style_gen()\n",
    "    for irun,run in enumerate(runs):\n",
    "        runname=run.split('/')[-1].split('-')[0]\n",
    "        print('run:',runname)\n",
    "        os.chdir(run+'/prfs')\n",
    "        prfs = glob.glob('*.rprof')\n",
    "        ndumps = len(prfs)\n",
    "        runid = prfs[0][:-10]\n",
    "        alldumps = [int(prfs[i][12:16]) for i in range(0,ndumps)]\n",
    "        alldumps.sort()\n",
    "#### read in T90 separately\n",
    "        num = str(0).rjust(4,'0')\n",
    "        file = open(runid+num+'.rprof','rt')\n",
    "        params,rprofs = getrprof(file)\n",
    "        rprof=rprofs[0]\n",
    "        IRhi = rprof['IR']\n",
    "        rg = range(0,len(rprof['IR']),2)\n",
    "        T90hi = rprof['T9']\n",
    "        T90lo = np.array([(T90hi[i]+T90hi[i+1])/2. for i in rg])\n",
    "        Rho0hi = rprof['Rho0']\n",
    "        Rho0lo = np.array([(Rho0hi[i]+Rho0hi[i+1])/2. for i in rg])\n",
    "        FV0hi = rprof['FV']\n",
    "        FV0lo = np.array([(FV0hi[i]+FV0hi[i+1])/2. for i in rg])\n",
    "        airmu = params['airmu']\n",
    "        cldmu = params['cldmu']\n",
    "        if 'radconst' in params:\n",
    "            radconst = params['radconst']\n",
    "        else:\n",
    "            radconst = 756.5767;\n",
    "        if ieos[irun]==0:\n",
    "            radconst = 0.\n",
    "        Rgasconst = params['Rgasconst']\n",
    "        amu=FV0lo*cldmu+(1.-FV0lo)*airmu\n",
    "        eint0lo=Rgasconst*T90lo/(amu*2./3.)+radconst*T90lo**4/Rho0lo\n",
    "###\n",
    "        totcldms=[]\n",
    "        totms=[]\n",
    "        t=[]\n",
    "        for dump in dumps[irun]:\n",
    "            params,rprofs = avrprof(run,dump)\n",
    "            idump=str(dump[0])+','+str(dump[1])\n",
    "            dx = params['dx']\n",
    "            time = params['time']\n",
    "            hours=int(time/(60*60))\n",
    "            print('time:',hours,' hours')\n",
    "            radout0 = params['radout0']\n",
    "            radmax = params['radmax']\n",
    "            totallum = params['totallum']\n",
    "            radin0 = params['radin0']\n",
    "            g=params['gravconst']\n",
    "            t.insert(0,time)\n",
    "#let's just use the first panel of radial profile\n",
    "            rprof = rprofs[0]\n",
    "            rghi = range(0,len(rprof['IR']))\n",
    "            rg = range(0,len(rprof['IR']),2)\n",
    "            IRhi = rprof['IR']\n",
    "            Rhi = rprof['R']\n",
    "            Rlo = np.array([(Rhi[i]+Rhi[i+1])/2. for i in rg])\n",
    "            Rho0hi = rprof['Rho0']\n",
    "            Rho0lo = np.array([(Rho0hi[i]+Rho0hi[i+1])/2. for i in rg])\n",
    "            rglo = range(0,len(Rho0lo))\n",
    "            tmp = rprof['Rho1']\n",
    "            Rho1=np.array([(tmp[i]+tmp[i+1])/2. for i in rg])\n",
    "            P0hi = rprof['P0']\n",
    "            P0lo = np.array([(P0hi[i]+P0hi[i+1])/2. for i in rg])\n",
    "                \n",
    "            tmp = rprof['P1']\n",
    "            P1=np.array([(tmp[i]+tmp[i+1])/2. for i in rg])\n",
    "            FVhi = rprof['FV']\n",
    "            FVlo=np.array([(FVhi[i]+FVhi[i+1])/2. for i in rg])\n",
    "            dFVdRlo = np.gradient(FVlo,Rlo)\n",
    "            tmp = rprof['T9']\n",
    "            T9=np.array([(tmp[i]+tmp[i+1])/2. for i in rg])\n",
    "            airmu = params['airmu']\n",
    "            cldmu = params['cldmu']\n",
    "            muhi =airmu*(1.-FVhi)+cldmu*FVhi\n",
    "            mulo=np.array([(muhi[i]+muhi[i+1])/2. for i in rg])\n",
    "            fkair = params['fkair']\n",
    "            fkcld = params['fkcld']\n",
    "            if 'radconst' in params:\n",
    "                radconst = params['radconst']\n",
    "            else:\n",
    "                radconst = 756.5767;\n",
    "            if ieos[irun] == 0:\n",
    "                radconst=0.\n",
    "            Rgasconst = params['Rgasconst']\n",
    "            Rho =Rho0lo+Rho1\n",
    "            P =P0lo+P1\n",
    "            s=get_s(Rho,T9,mulo,radconst) \n",
    "            \n",
    "            Prad =(radconst*T9**4)/3.\n",
    "            \n",
    "            tmp=np.gradient(P0hi,Rhi)\n",
    "#gravitational acceleration and internal energy per unit mass\n",
    "            g0hi=tmp/Rho0hi\n",
    "            g0lo=np.array([(g0hi[i]+g0hi[i+1])/2. for i in rg])\n",
    "            amu=FVlo*cldmu+(1.-FVlo)*airmu\n",
    "            eint=Rgasconst*T9/(amu*2./3.)+radconst*T9**4/Rho\n",
    "                    \n",
    "            delta=get_delta(Rho,T9,mulo,radconst) \n",
    "            delad=get_delad(Rho,T9,mulo,radconst) \n",
    "#                Hp0lo=[abs(P0lo[i]/max(-Rho0lo[i]*g0lo[i],1e-6)) for i in rglo]\n",
    "            Hp0lo=get_Hp(P0lo,g0lo,Rho0lo,g)\n",
    "            phi=get_phi(Rho,T9,mulo,radconst) \n",
    "            inx=np.array([i for i in rglo])\n",
    "            dtdi=np.gradient(T9,inx)\n",
    "            dpdi=np.gradient(P,inx)\n",
    "            drhodi=np.gradient(Rho,inx)\n",
    "            dpdr=np.gradient(P,Rlo)\n",
    "            dmudilo=np.gradient(mulo,inx)\n",
    "            dtdi[dtdi==0]=10*-10\n",
    "            dpdi[dpdi==0]=10*-10\n",
    "#dell is dlnT/dlnp of the star stratification\n",
    "            dell=P*dtdi/(T9*np.maximum(10*-12,dpdi))\n",
    "            dlnp=dpdi/P\n",
    "            dlnrho=drhodi/Rho\n",
    "#                Hp=[abs(P[j]/max(1e-6,-dpdr[j])) for j in rglo]\n",
    "            Hp=get_Hp(P,g0lo,Rho,g)\n",
    "            dlnmulo=dmudilo/mulo\n",
    "            Ntsq=g0lo**2*Rho*delta*(delad-dell)/P\n",
    "            Nmusq=g0lo**2*phi*Rho*dmudilo/(dpdi*mulo)\n",
    "            \n",
    "            sig=300.\n",
    "            sqrt2=mt.sqrt(2)\n",
    "            sqrtpi=mt.sqrt(mt.pi)\n",
    "            LNlo=totallum*( erf(Rlo/(sig*sqrt2)) - np.exp(-(Rlo/sig)**2/2.)*sqrt2*Rlo/(sig*sqrtpi) ) \n",
    "            \n",
    "# compute potential as a function of radius            \n",
    "            Rhi=np.flip(Rhi)\n",
    "            g0hi=np.flip(g0hi)\n",
    "            dRhi = np.gradient(Rhi)\n",
    "            pot0hi = np.cumsum(-g0hi*dRhi)\n",
    "            Rhi=np.flip(Rhi)\n",
    "            g0hi=np.flip(g0hi)\n",
    "            pot0hi=np.flip(pot0hi)                                          \n",
    "####                                  \n",
    "            rprof = rprofs[1]\n",
    "            offset = 1 if 'Ceul' not in rprof else 0 \n",
    "            rprof = rprofs[1+offset]\n",
    "            rglo = range(0,len(rprof['IR']))\n",
    "            IRlo = rprof['IR']\n",
    "            Rlo = rprof['R']\n",
    "            Ceul=rprof['Ceul']\n",
    "            Uabs=rprof['|U|']\n",
    "            A=rprof['A']\n",
    "            isflat=0\n",
    "            m,cldm=get_mass(Rlo,Rho,FVlo,airmu,cldmu,isflat)\n",
    "            m1,tmp=get_mass(Rlo,Rho1,FVlo,airmu,cldmu,isflat)\n",
    "# 1 unit of mass = 10**27 gm\n",
    "            m0lo,tmp=get_mass(Rlo,Rho0lo,FVlo,airmu,cldmu,isflat)\n",
    "            totcldms.append(cldm[0])\n",
    "            totms.append(m[0])\n",
    "            glo = g*m/Rlo/Rlo\n",
    "    \n",
    "# compute potential as a function of radius            \n",
    "            Rlo=np.flip(Rlo)\n",
    "            g0lo=np.flip(g0lo)\n",
    "            dRlo = np.gradient(Rlo)\n",
    "            pot0lo = np.cumsum(-g0lo*dRlo)\n",
    "            Rlo=np.flip(Rlo)\n",
    "            g0lo=np.flip(g0lo)\n",
    "            pot0lo=np.flip(pot0lo) \n",
    "                \n",
    "#compute potential and its perturbation in each radial shell\n",
    "            Rlo=np.flip(Rlo)\n",
    "            Rho1=np.flip(Rho1)\n",
    "            Rho0lo=np.flip(Rho0lo)\n",
    "            pot0lo=np.flip(pot0lo)\n",
    "            dV = np.gradient(4.*mt.pi*Rlo**3./3.)\n",
    "            Epot1 = np.cumsum(pot0lo*Rho1*dV) \n",
    "            Epot0lo = np.cumsum(pot0lo*Rho0lo*dV)  \n",
    "            Rlo=np.flip(Rlo)\n",
    "            Rho1=np.flip(Rho1)\n",
    "            Rho0lo=np.flip(Rho0lo)\n",
    "            pot0lo=np.flip(pot0lo)\n",
    "            Epot1=np.flip(Epot1)\n",
    "            Epot0lo=np.flip(Epot0lo)\n",
    "        \n",
    "            dPdR = np.gradient(P,Rlo)\n",
    "            dAdR = np.gradient(A,Rlo)\n",
    "            dRhodR = np.gradient(Rho,Rlo)\n",
    "            Nsq=np.maximum(0,(dRhodR-dPdR/(Ceul*Ceul))\\\n",
    "                *dPdR/(Rho*Rho)) \n",
    "                \n",
    "            rprof = rprofs[2+offset]\n",
    "            RhoUr=rprof['RhoUr']\n",
    "            RhoUrUsq=rprof['RhoUrUsq']\n",
    "            RhoUrH=rprof['RhoUrH']\n",
    "            flxkin=RhoUrUsq*4.*mt.pi*Rlo**2 \n",
    "            tmp=RhoUrH*4.*mt.pi*Rlo**2 \n",
    "            F_enth=smooth(tmp,5)\n",
    "                \n",
    "            rprof = rprofs[3+offset]\n",
    "            Ut=rprof['|Ut|']\n",
    "            dUtdR=np.gradient(Ut,Rlo)\n",
    "            Ur=rprof['Ur']\n",
    "            dUrRMS=rprof['dUrRMS']\n",
    "            dUtRMS =rprof['d|Ut|RMS']     \n",
    "\n",
    "            enint1=Rho*eint-Rho0lo*eint0lo\n",
    "#this is not kinetic energy! just some very inaccurate estimate!\n",
    "            enk=Rho*Uabs**2./2.\n",
    "            entot1=enint1+enk              \n",
    "             \n",
    "            tmp1=smooth(P,2)\n",
    "            tmp2=smooth(T9,2)\n",
    "            dTdp_star=np.gradient(tmp2,tmp1)\n",
    "            dlnTdlnp_star=dTdp_star*tmp1/tmp2\n",
    "                    \n",
    "#def get_delad(rho,t,mu,a):\n",
    "#delad=(dlnT/dlnp)_(s,mu)\n",
    "            amu=FVlo*cldmu+(1.-FVlo)*airmu\n",
    "            dlnTdlnp_ad=get_delad(Rho,T9,amu,radconst)\n",
    "            cp=get_cp(Rho,T9,amu,radconst)\n",
    "                \n",
    "#def get_delta(rho,t,mu,a):\n",
    "#def get_phi(rho,t,mu,a):\n",
    "            delta=get_delta(Rho,T9,amu,radconst)\n",
    "            phi=get_phi(Rho,T9,amu,radconst)\n",
    "\n",
    "            dmudp_star=np.gradient(amu,P)\n",
    "            dlnmudlnp_star=dmudp_star*P/amu                    \n",
    "                \n",
    "            dP0dRhi = np.gradient(P0hi,Rhi)\n",
    "            g0hi=dP0dRhi/Rho0hi\n",
    "            g0lo=[(g0hi[i]+g0hi[i+1])/2. for i in rg]\n",
    "            isflat=0\n",
    "            m,cldm=get_mass(Rlo,Rho,FVlo,airmu,cldmu,isflat)\n",
    "            m1,tmp=get_mass(Rlo,Rho1,FVlo,airmu,cldmu,isflat)\n",
    "            m0lo,cldm0lo=get_mass(Rlo,Rho0lo,FV0lo,airmu,cldmu,isflat)\n",
    "#               g0lo=[-m0lo[j]*6.67*(10**-5)/Rlo[j]**2 for j in rglo]\n",
    "            drlo=abs(Rlo[0]-Rlo[-1])/(len(Rlo)-1)\n",
    "            entolift=g0lo*m1*drlo\n",
    "###               \n",
    "            entoliftsum=[]\n",
    "            entolift=np.flip(entolift)\n",
    "            entoliftsum = np.cumsum(entolift)                        \n",
    "            entolift=np.flip(entolift)\n",
    "            entoliftsum=np.flip(entoliftsum)\n",
    "###               \n",
    "    \n",
    "            gamma=5./3.\n",
    "# thermal conductivity and thermal diffusivity\n",
    "            clight=299.792458\n",
    "            X=h_fraction(FVlo,airmu,cldmu,fkair,fkcld)\n",
    "            muav= FVlo*cldmu+(1.-FVlo)*airmu\n",
    "            tlog = np.log10(T9*10**9)\n",
    "            cappa=kappa_func(X,tlog)\n",
    "#                cappaav=kappa_func28(X,thyng,Rho[i])\n",
    "#compute cp specific heat capacity\n",
    "            cp=get_cp(Rho,T9,muav,radconst)             \n",
    "\n",
    "###\n",
    "            tmp=-RhoUr*g0lo*drlo*4.*mt.pi*Rlo**2 \n",
    "            tmp=np.flip(tmp)\n",
    "            potflx=np.cumsum(tmp)\n",
    "            potflx=np.flip(potflx)\n",
    "###\n",
    "            \n",
    "            Pgrav=RhoUr*g0lo*4.*mt.pi*Rlo*Rlo\n",
    "            Pgrav=np.convolve(Pgrav,[1./5.]*5,mode='same')\n",
    "        \n",
    "###             \n",
    "            tmp=enint1*drlo*4.*mt.pi*Rlo**2\n",
    "            tmp=np.flip(tmp)\n",
    "            enint1sum=np.cumsum(tmp)\n",
    "            enint1sum=np.flip(enint1sum)\n",
    "###\n",
    "                \n",
    "            c=299.792458 \n",
    "            tout,cappa,r,radflx = rad_dif(params,rprofs,iraddiff[irun])\n",
    "# F_rad should be the same with radflx\n",
    "            F_rad=(16.*mt.pi*radconst*g*c*m*T9**4*iraddiff[irun]*dlnTdlnp_star) \\\n",
    "                      /(10**11*3.*cappa*P)\n",
    "            nabla_rad=10**11*3.*cappa*(F_enth+F_rad)*P\\\n",
    "                        /(16.*mt.pi*radconst*g*c*m*T9**4*iraddiff[irun]) \n",
    "            delrad=10**11*3.*cappa*(F_enth+F_rad)*P\\\n",
    "                        /(16.*mt.pi*radconst*g*c*m*T9**4*iraddiff[irun]) \n",
    "\n",
    "            tmp=(dlnTdlnp_star-dlnTdlnp_ad) \n",
    "            supad=np.convolve(tmp, [0.2]*5, mode='same')\n",
    "                \n",
    "            tmp=4.*mt.pi*Rlo**2*Rho*cp*T9*np.sqrt(P/Rho)*np.maximum(supad,0)**1.5 \n",
    "            asq=F_enth/tmp\n",
    "            \n",
    "#thermal diffusivity                \n",
    "            D=(1e-11)*iraddiff[irun]*4.*radconst*clight*T9**3 \\\n",
    "                /(3*cappa*cp*Rho**2) \n",
    "                \n",
    "            lph=iraddiff[irun]*(1e-11)/(cappa*Rho)\n",
    "                \n",
    "#            Fconvbylmsq=[Rho[i]*cp[i]*T9[i]*mt.sqrt(abs(g0lo[i])*delta[i]) \\\n",
    "#                            *Hp[i]**(-1.5)*(dlnTdlnp_star[i]-0.999*dlnTdlnp_ad[i])**1.5/(4.*mt.sqrt(2)) for i in rglo]\n",
    "#            Fconvbylmsq=smooth(Fconvbylmsq,5)\n",
    "                \n",
    "#            asq=[RhoUrH[i]/Fconvbylmsq[i]/Hp[i]/Hp[i] for i in rglo]\n",
    "#            asq=smooth(asq,5)\n",
    "\n",
    "            Fconvbylmsq=Rho*cp*T9*np.sqrt(np.absolute(g0lo)*delta) \\\n",
    "                            *Hp**(-1.5)*(dlnTdlnp_star-0.999*dlnTdlnp_ad)**1.5/(4.*np.sqrt(2)) \n",
    "            Fconvbylmsq=smooth(Fconvbylmsq,5)\n",
    "                \n",
    "            asq=RhoUrH/Fconvbylmsq/Hp/Hp\n",
    "            asq=smooth(asq,5)\n",
    "#1st\n",
    "            x.append(Rlo.copy())\n",
    "            xlabel.append(r'$R/\\mathrm{Mm}$')    \n",
    "            y.append(asq)\n",
    "            ylabel.append(r'$ \\alpha ^2$')\n",
    "            legend.append(runname+r' $\\alpha ^2$ '+str(hours)+' hrs')\n",
    "                \n",
    "            x.append(Rlo.copy())\n",
    "            xlabel.append(r'$R/\\mathrm{Mm}$')    \n",
    "            y.append(Prad/P)\n",
    "            ylabel.append(r'$ Prad/P $')\n",
    "            legend.append(runname+r' $\\Prad/P $ '+str(hours)+' hrs')\n",
    "                \n",
    "            x.append(Rlo.copy())\n",
    "            xlabel.append(r'$R/\\mathrm{Mm}$')    \n",
    "            y.append(cp)\n",
    "            ylabel.append(r'$ cp $')\n",
    "            legend.append(runname+r' $cp $ '+str(hours)+' hrs')\n",
    "                \n",
    "            x.append(Rlo.copy())\n",
    "            xlabel.append(r'$R/\\mathrm{Mm}$')    \n",
    "            y.append(A)\n",
    "            ylabel.append(r' entropy')\n",
    "            legend.append(runname+r' $A$ '+str(hours)+' hrs')\n",
    "                \n",
    "            x.append(Rlo.copy())\n",
    "            xlabel.append(r'$R/\\mathrm{Mm}$')    \n",
    "            y.append(dFVdRlo )\n",
    "            ylabel.append(r' grad FV')\n",
    "            legend.append(runname+r' $grad FV$ '+str(hours)+' hrs')\n",
    "                \n",
    "            x.append(Rlo.copy())\n",
    "            xlabel.append(r'$R/\\mathrm{Mm}$')    \n",
    "            y.append(dAdR)\n",
    "            ylabel.append(r' grad entropy ')\n",
    "            legend.append(runname+r' $dAdR$ '+str(hours)+' hrs')\n",
    "                \n",
    "            x.append(Rlo.copy())\n",
    "            xlabel.append(r'$R/\\mathrm{Mm}$')    \n",
    "            y.append(Uabs)\n",
    "            ylabel.append(r' Uabs / Mm/s')\n",
    "            legend.append(runname+r' $Uabs$ '+str(hours)+' hrs')\n",
    "                \n",
    "            x.append(Rlo.copy())\n",
    "#            x.append(m.copy()/Msun)\n",
    "            xlabel.append(r'$R/\\mathrm{Mm}$')    \n",
    "#            xlabel.append(r' $m/M_{sun}$') \n",
    "            y.append(FVlo)\n",
    "            ylabel.append(r' FV ')\n",
    "            legend.append(runname+r' $FV$ '+str(hours)+' hrs')\n",
    "                \n",
    "            x.append(Rlo.copy())\n",
    "            xlabel.append(r'$R/\\mathrm{Mm}$')    \n",
    "            y.append(Ut)\n",
    "            ylabel.append(r' Ut / Mm/s')\n",
    "            legend.append(runname+r' $Ut$ '+str(hours)+' hrs')\n",
    "                \n",
    "            x.append(Rlo.copy())\n",
    "            xlabel.append(r'$R/\\mathrm{Mm}$')    \n",
    "            y.append(Ur)\n",
    "            ylabel.append(r' Ur / Mm/s')\n",
    "            legend.append(runname+r' $Ur$ '+str(hours)+' hrs')\n",
    "\n",
    "#11th\n",
    "            x.append(Rlo.copy())\n",
    "            xlabel.append(r'$R/\\mathrm{Mm}$')    \n",
    "            y.append(RhoUr)\n",
    "            ylabel.append(r' RhoUr')\n",
    "            legend.append(runname+r' $RhoUr$ '+str(hours)+' hrs')\n",
    "                \n",
    "            x.append(Rlo.copy())\n",
    "            xlabel.append(r'$R/\\mathrm{Mm}$')    \n",
    "            y.append(delta)\n",
    "            ylabel.append(r' delta')\n",
    "            legend.append(runname+r' $delta$ '+str(hours)+' hrs')\n",
    "                \n",
    "            x.append(Rlo.copy())\n",
    "            xlabel.append(r'$R/\\mathrm{Mm}$')    \n",
    "            y.append(P0lo)\n",
    "            ylabel.append(r' P0lo')\n",
    "            legend.append(runname+r' $P0lo$ '+str(hours)+' hrs')\n",
    "                \n",
    "            x.append(Rlo.copy())\n",
    "            xlabel.append(r'$R/\\mathrm{Mm}$')    \n",
    "            y.append(Rho0lo)\n",
    "            ylabel.append(r' Rho0lo')\n",
    "            legend.append(runname+r' $Rho0lo$ '+str(hours)+' hrs')\n",
    "                \n",
    "            x.append(Rlo.copy())\n",
    "            xlabel.append(r'$R/\\mathrm{Mm}$')    \n",
    "            y.append(P1)\n",
    "            ylabel.append(r' P1')\n",
    "            legend.append(runname+r' $P1$ '+str(hours)+' hrs')\n",
    "                \n",
    "            x.append(Rlo.copy())\n",
    "            xlabel.append(r'$R/\\mathrm{Mm}$')    \n",
    "            y.append(Rho1/Rho0lo)\n",
    "            ylabel.append(r'$\\rho f$')\n",
    "            legend.append(runname+r' $\\rho f$ '+str(hours)+' hrs')\n",
    "\n",
    "            x.append(Rlo.copy())\n",
    "            xlabel.append(r'$R/\\mathrm{Mm}$')\n",
    "#             y.append(Epot1/(totallum*np.maximum(time,10**-6)) )\n",
    "            y.append((pot0lo*Rho1*np.pi*4.*Rlo*Rlo)/(totallum*np.maximum(time,10**-6)) )\n",
    "            ylabel.append(r' $energy  / (\\mathrm{L \\times time}$)')\n",
    "            legend.append(runname+' $dE^{pot}_1/dR$ '+str(hours)+' hrs')\n",
    "                \n",
    "            x.append(Rlo.copy())\n",
    "            xlabel.append(r'$R/\\mathrm{Mm}$')    \n",
    "            y.append(enint1*4.*mt.pi*Rlo*Rlo/(totallum*np.maximum(time,10**-6)) )\n",
    "            ylabel.append(r' $energy  / (\\mathrm{L \\times time}$)')\n",
    "            legend.append(runname+' $dE^{int}_1/dR$ '+str(hours)+' hrs')\n",
    "                \n",
    "            x.append(Rlo.copy())\n",
    "            xlabel.append(r'$R/\\mathrm{Mm}$')\n",
    "            y.append(Pgrav/totallum )\n",
    "            ylabel.append(r' \\frac{dP}{dR}/ L')\n",
    "            legend.append(runname+' '+r'$4\\pi R^2 \\rho U_R g$')\n",
    "                \n",
    "            x.append(Rlo.copy())\n",
    "            xlabel.append(r'$R/\\mathrm{Mm}$')\n",
    "            y.append(flxkin/totallum)\n",
    "            ylabel.append(r' power  / L')\n",
    "            legend.append(runname+' $F^{\\mathrm{kin}}$ '+str(hours)+' hrs')\n",
    "\n",
    "#21st\n",
    "            x.append(Rlo.copy())\n",
    "            xlabel.append(r'$R/\\mathrm{Mm}$')\n",
    "            y.append(F_enth/totallum)\n",
    "            ylabel.append(r' power  / L')\n",
    "            legend.append(runname+' $F_{\\mathrm{conv}}$')\n",
    "                \n",
    "            x.append(Rlo.copy())\n",
    "            xlabel.append(r'$R/\\mathrm{Mm}$')\n",
    "            radflx=np.convolve(radflx, [1./20.]*20, mode='same')\n",
    "            y.append(radflx/totallum)\n",
    "            ylabel.append(r' power  / L')\n",
    "            legend.append(runname+' $F_{\\mathrm{rad}}$')\n",
    "            \n",
    "            x.append(Rlo.copy())\n",
    "            xlabel.append(r'$R/\\mathrm{Mm}$')\n",
    "            y.append((radflx+F_enth)/totallum )\n",
    "            ylabel.append(r' power  / L')\n",
    "            legend.append(runname+' $F_{\\mathrm{tot}}$')\n",
    "                \n",
    "            x.append(Rlo.copy())\n",
    "            xlabel.append(r'$R/\\mathrm{Mm}$')\n",
    "            y.append(cappa)\n",
    "            ylabel.append(r' cappa')\n",
    "            legend.append(runname+' $cappa$ '+str(hours)+' hrs')\n",
    "                \n",
    "            x.append(Rlo.copy())\n",
    "            xlabel.append(r'$R/\\mathrm{Mm}$')    \n",
    "            y.append(RhoUrH)\n",
    "            ylabel.append(r' power')\n",
    "            legend.append(runname+' RhoUrH '+str(hours)+' hrs')\n",
    "                          \n",
    "            x.append(Rlo.copy())\n",
    "            xlabel.append(r'$R/\\mathrm{Mm}$')    \n",
    "            y.append(dlnTdlnp_star)\n",
    "            ylabel.append(r'derivative')\n",
    "            legend.append(runname+r' $\\nabla_{star}$ '+str(hours)+' hrs')\n",
    "                \n",
    "            x.append(Rlo.copy())\n",
    "            xlabel.append(r'$R/\\mathrm{Mm}$')\n",
    "            y.append(nabla_rad)\n",
    "            ylabel.append(r' derivative')\n",
    "            legend.append(runname+r' $\\nabla_{rad}$ '+str(hours)+' hrs')\n",
    "                \n",
    "            x.append(Rlo.copy())\n",
    "            xlabel.append(r'$R/\\mathrm{Mm}$')    \n",
    "            y.append(dlnTdlnp_ad)\n",
    "            ylabel.append(r' derivative')\n",
    "            legend.append(runname+r' $\\nabla_{ad}$ '+str(hours)+' hrs')\n",
    "                \n",
    "            x.append(Rlo.copy())\n",
    "            xlabel.append(r'$R/\\mathrm{Mm}$')   \n",
    "            y.append(supad)\n",
    "            ylabel.append(r' derivative')\n",
    "            legend.append(runname+' superadiabat '+str(hours)+' hrs')\n",
    "                \n",
    "            x.append(Rlo.copy())\n",
    "            xlabel.append(r'$R/\\mathrm{Mm}$')   \n",
    "            tmp=(dlnTdlnp_ad-dlnTdlnp_star+phi*dlnmudlnp_star/delta)\n",
    "            y.append(tmp)\n",
    "            ylabel.append(r' derivative')\n",
    "            legend.append(runname+' Ledoux: '+str(hours)+' hrs')\n",
    "\n",
    "#31st\n",
    "            x.append(Rlo.copy())\n",
    "            xlabel.append(r'$R/\\mathrm{Mm}$')   \n",
    "            y.append(supad/dlnTdlnp_ad)\n",
    "            ylabel.append(r' derivative')\n",
    "            legend.append(runname+' supad fraction: '+str(hours)+' hrs')\n",
    "                \n",
    "            x.append(Rlo.copy())\n",
    "            xlabel.append(r'$R/\\mathrm{Mm}$') \n",
    "            y.append(asq)\n",
    "#                ylabel.append(r' $\\alpha^2$')\n",
    "#                legend.append(runname+r' $\\alpha^2$ dump: '+str(idump))\n",
    "            ylabel.append(r' $\\alpha^2 $')\n",
    "            legend.append(runname+r' $\\alpha^2 $ '+str(hours)+' hrs')\n",
    "                \n",
    "            x.append(Rlo.copy())\n",
    "            xlabel.append(r'$R/\\mathrm{Mm}$') \n",
    "            y.append(Nsq)\n",
    "            ylabel.append(r' $N^2/Hz^2$')\n",
    "            legend.append(runname+r' $N^2$ '+str(hours)+' hrs')\n",
    "                \n",
    "            x.append(Rlo.copy())\n",
    "            xlabel.append(r'$R/\\mathrm{Mm}$') \n",
    "            y.append(Ntsq)\n",
    "            ylabel.append(r' $N^2/Hz^2$')\n",
    "            legend.append(runname+r' $N_t^2$ '+str(hours)+' hrs')\n",
    "                \n",
    "            x.append(Rlo.copy())\n",
    "            xlabel.append(r'$R/\\mathrm{Mm}$') \n",
    "            y.append(Nmusq)\n",
    "            ylabel.append(r' $N^2/Hz^2$')\n",
    "            legend.append(runname+r' $N_{\\mu}^2$ '+str(hours)+' hrs')\n",
    "                \n",
    "            Ulmsq=(1e-11)*iraddiff[irun]*3.*radconst*clight*T9**3 * np.sqrt(abs(-8*Hp/(np.minimum(g0lo,-1e-6)*delta)))/(cp*Rho**2*cappa)\n",
    "            x.append(Rlo.copy())\n",
    "            xlabel.append(r'$R/\\mathrm{Mm}$')    \n",
    "            y.append(Ulmsq)\n",
    "            ylabel.append(r' Ulmsq')\n",
    "            legend.append(runname+r' Ulmsq '+str(hours)+' hrs')\n",
    "                \n",
    "            x.append(Rlo.copy())\n",
    "            xlabel.append(r'$R/\\mathrm{Mm}$') \n",
    "            y.append(Hp)\n",
    "            ylabel.append(r' $Hp0lo$')\n",
    "            legend.append(runname+r' $Hp$ '+str(hours)+' hrs')\n",
    "                \n",
    "            x.append(Rlo.copy())\n",
    "            xlabel.append(r'$R/\\mathrm{Mm}$') \n",
    "            y.append(g0lo)\n",
    "            ylabel.append(r' $g0lo$')\n",
    "            legend.append(runname+r' $g0lo$ '+str(hours)+' hrs')\n",
    "                \n",
    "            x.append(Rlo.copy())\n",
    "            xlabel.append(r'$R/\\mathrm{Mm}$') \n",
    "            y.append(m/Msun)\n",
    "            ylabel.append(r' $m/M_{sun}$')\n",
    "            legend.append(runname+r' $m/M_{sun}$ '+str(hours)+' hrs')\n",
    "                \n",
    "            x.append(Rlo.copy())\n",
    "            xlabel.append(r'$R/\\mathrm{Mm}$') \n",
    "            y.append(-glo)\n",
    "            ylabel.append(r' $g$')\n",
    "            legend.append(runname+r' $g$ '+str(hours)+' hrs')\n",
    "\n",
    "#41st\n",
    "            x.append(Rlo.copy())\n",
    "            xlabel.append(r'$R/\\mathrm{Mm}$') \n",
    "            y.append(lph)\n",
    "            ylabel.append(r' $lph$')\n",
    "            legend.append(runname+r' $lph$ '+str(hours)+' hrs')\n",
    "                \n",
    "#MLT                              \n",
    "            x.append(Rlo.copy())\n",
    "            xlabel.append(r'$R/\\mathrm{Mm}$') \n",
    "            y.append(enint1/(eint0lo*Rho0lo))\n",
    "            ylabel.append(r' $\\epsilon f$')\n",
    "            legend.append(runname+r' $\\epsilon f$ '+str(hours)+' hrs')\n",
    "                \n",
    "            x.append(Rlo.copy())\n",
    "            xlabel.append(r'$R/\\mathrm{Mm}$') \n",
    "            tmp=cp*Rho*T9*np.sqrt(P/Rho)*(np.maximum(0,dlnTdlnp_star-dlnTdlnp_ad))**1.5\n",
    "            a=[]\n",
    "            for i in rglo:\n",
    "                if tmp[i] == 0:\n",
    "                    a.append(0)\n",
    "                else:\n",
    "                    a.append(RhoUrH[i]/tmp[i])\n",
    "            a=np.convolve(a, [1./5.]*5, mode='same')\n",
    "            y.append(a)\n",
    "            ylabel.append(r' $\\alpha^2$ dereived from flux')\n",
    "            legend.append(runname+r' $\\alpha^2$ derived from flux '+str(hours)+' hrs')\n",
    "                       \n",
    "    return [x,xlabel,y,ylabel,legend]               "
   ]
  },
  {
   "cell_type": "markdown",
   "metadata": {},
   "source": [
    "Compare M201,M204,M207"
   ]
  },
  {
   "cell_type": "code",
   "execution_count": 104,
   "metadata": {},
   "outputs": [],
   "source": [
    "path1='/home/user/user/frontera_scratch3_mao1'\n",
    "path2='/home/user/user/niagara_scratch_fherwig'\n",
    "runM207='/M207-1000xht-1000xdiff-realEOS-1152'\n",
    "runM204='/M204-1000xht-100xdiff-realEOS-1152'\n",
    "runM201='/M201-1000xht-0xdiff-realEOS-1152'\n",
    "runM215='/M215-shell-ht-768'\n",
    "runM208='/M208-100xht-100xdiff-realEOS-1152'\n",
    "runM212='/M212-31.62xht-31.62xdiff-realEOS-1152'\n",
    "runM209='/M209-3162.3xht-3162.3xdiff-realEOS-1152'\n",
    "runM114='/M114'\n",
    "runs=[path1+runM201,path1+runM204,path1+runM207]\n",
    "#runs=[path1+runM201,]\n",
    "ieos=[1,1,1,]\n",
    "iraddiff=[1,100,1000,]\n",
    "#iraddiff=[0,0]\n",
    "a=[[2700,3960,50]]\n",
    "b=[[2700,4200,50]]\n",
    "dumps=[a,b,b]"
   ]
  },
  {
   "cell_type": "code",
   "execution_count": 105,
   "metadata": {},
   "outputs": [
    {
     "name": "stdout",
     "output_type": "stream",
     "text": [
      "[[2700, 3960, 50]]\n",
      "/user/dataA_rpod4/Huaqing/ppmstar/projects/H-core-M25/analysis_Prad-runs\n",
      "run: M201\n",
      "run: M201\n",
      "time: 2467  hours\n",
      "run: M204\n"
     ]
    },
    {
     "name": "stderr",
     "output_type": "stream",
     "text": [
      "/usr/local/lib/python3.6/dist-packages/ipykernel_launcher.py:290: RuntimeWarning: divide by zero encountered in true_divide\n",
      "/usr/local/lib/python3.6/dist-packages/ipykernel_launcher.py:306: RuntimeWarning: invalid value encountered in power\n"
     ]
    },
    {
     "name": "stdout",
     "output_type": "stream",
     "text": [
      "run: M204\n",
      "time: 2470  hours\n",
      "run: M207\n",
      "run: M207\n",
      "time: 2470  hours\n"
     ]
    }
   ],
   "source": [
    "print(dumps[0])\n",
    "x,xlabel,y,ylabel,legend=compare(runs,ieos,iraddiff,dumps)"
   ]
  },
  {
   "cell_type": "code",
   "execution_count": 106,
   "metadata": {},
   "outputs": [
    {
     "name": "stdout",
     "output_type": "stream",
     "text": [
      "0 $R/\\mathrm{Mm}$ $ \\alpha ^2$ M201 $\\alpha ^2$ 2467 hrs\n",
      "1 $R/\\mathrm{Mm}$ $ Prad/P $ M201 $\\Prad/P $ 2467 hrs\n",
      "2 $R/\\mathrm{Mm}$ $ cp $ M201 $cp $ 2467 hrs\n",
      "3 $R/\\mathrm{Mm}$  entropy M201 $A$ 2467 hrs\n",
      "4 $R/\\mathrm{Mm}$  grad FV M201 $grad FV$ 2467 hrs\n",
      "5 $R/\\mathrm{Mm}$  grad entropy  M201 $dAdR$ 2467 hrs\n",
      "6 $R/\\mathrm{Mm}$  Uabs / Mm/s M201 $Uabs$ 2467 hrs\n",
      "7 $R/\\mathrm{Mm}$  FV  M201 $FV$ 2467 hrs\n",
      "8 $R/\\mathrm{Mm}$  Ut / Mm/s M201 $Ut$ 2467 hrs\n",
      "9 $R/\\mathrm{Mm}$  Ur / Mm/s M201 $Ur$ 2467 hrs\n",
      "10 $R/\\mathrm{Mm}$  RhoUr M201 $RhoUr$ 2467 hrs\n",
      "11 $R/\\mathrm{Mm}$  delta M201 $delta$ 2467 hrs\n",
      "12 $R/\\mathrm{Mm}$  P0lo M201 $P0lo$ 2467 hrs\n",
      "13 $R/\\mathrm{Mm}$  Rho0lo M201 $Rho0lo$ 2467 hrs\n",
      "14 $R/\\mathrm{Mm}$  P1 M201 $P1$ 2467 hrs\n",
      "15 $R/\\mathrm{Mm}$ $\\rho f$ M201 $\\rho f$ 2467 hrs\n",
      "16 $R/\\mathrm{Mm}$  $energy  / (\\mathrm{L \\times time}$) M201 $dE^{pot}_1/dR$ 2467 hrs\n",
      "17 $R/\\mathrm{Mm}$  $energy  / (\\mathrm{L \\times time}$) M201 $dE^{int}_1/dR$ 2467 hrs\n",
      "18 $R/\\mathrm{Mm}$  \\frac{dP}{dR}/ L M201 $4\\pi R^2 \\rho U_R g$\n",
      "19 $R/\\mathrm{Mm}$  power  / L M201 $F^{\\mathrm{kin}}$ 2467 hrs\n",
      "20 $R/\\mathrm{Mm}$  power  / L M201 $F_{\\mathrm{conv}}$\n",
      "21 $R/\\mathrm{Mm}$  power  / L M201 $F_{\\mathrm{rad}}$\n",
      "22 $R/\\mathrm{Mm}$  power  / L M201 $F_{\\mathrm{tot}}$\n",
      "23 $R/\\mathrm{Mm}$  cappa M201 $cappa$ 2467 hrs\n",
      "24 $R/\\mathrm{Mm}$  power M201 RhoUrH 2467 hrs\n",
      "25 $R/\\mathrm{Mm}$ derivative M201 $\\nabla_{star}$ 2467 hrs\n",
      "26 $R/\\mathrm{Mm}$  derivative M201 $\\nabla_{rad}$ 2467 hrs\n",
      "27 $R/\\mathrm{Mm}$  derivative M201 $\\nabla_{ad}$ 2467 hrs\n",
      "28 $R/\\mathrm{Mm}$  derivative M201 superadiabat 2467 hrs\n",
      "29 $R/\\mathrm{Mm}$  derivative M201 Ledoux: 2467 hrs\n",
      "30 $R/\\mathrm{Mm}$  derivative M201 supad fraction: 2467 hrs\n",
      "31 $R/\\mathrm{Mm}$  $\\alpha^2 $ M201 $\\alpha^2 $ 2467 hrs\n",
      "32 $R/\\mathrm{Mm}$  $N^2/Hz^2$ M201 $N^2$ 2467 hrs\n",
      "33 $R/\\mathrm{Mm}$  $N^2/Hz^2$ M201 $N_t^2$ 2467 hrs\n",
      "34 $R/\\mathrm{Mm}$  $N^2/Hz^2$ M201 $N_{\\mu}^2$ 2467 hrs\n",
      "35 $R/\\mathrm{Mm}$  Ulmsq M201 Ulmsq 2467 hrs\n",
      "36 $R/\\mathrm{Mm}$  $Hp0lo$ M201 $Hp$ 2467 hrs\n",
      "37 $R/\\mathrm{Mm}$  $g0lo$ M201 $g0lo$ 2467 hrs\n",
      "38 $R/\\mathrm{Mm}$  $m/M_{sun}$ M201 $m/M_{sun}$ 2467 hrs\n",
      "39 $R/\\mathrm{Mm}$  $g$ M201 $g$ 2467 hrs\n",
      "40 $R/\\mathrm{Mm}$  $lph$ M201 $lph$ 2467 hrs\n",
      "41 $R/\\mathrm{Mm}$  $\\epsilon f$ M201 $\\epsilon f$ 2467 hrs\n",
      "42 $R/\\mathrm{Mm}$  $\\alpha^2$ dereived from flux M201 $\\alpha^2$ derived from flux 2467 hrs\n",
      "/user/dataA_rpod4/Huaqing/ppmstar/projects/H-core-M25/analysis_Prad-runs\n"
     ]
    }
   ],
   "source": [
    "for i in range(0,43):\n",
    "    print(i,xlabel[i],ylabel[i],str(legend[i]))\n",
    "print(origdir)"
   ]
  },
  {
   "cell_type": "markdown",
   "metadata": {},
   "source": [
    "Plot cp and Prad/P"
   ]
  },
  {
   "cell_type": "code",
   "execution_count": 107,
   "metadata": {},
   "outputs": [
    {
     "data": {
      "application/vnd.jupyter.widget-view+json": {
       "model_id": "",
       "version_major": 2,
       "version_minor": 0
      },
      "text/plain": [
       "Canvas(toolbar=Toolbar(toolitems=[('Home', 'Reset original view', 'home', 'home'), ('Back', 'Back to previous …"
      ]
     },
     "metadata": {},
     "output_type": "display_data"
    }
   ],
   "source": [
    "sty=style_gen()\n",
    "fig, ax1 = plt.subplots()\n",
    "ax2 = ax1.twinx()\n",
    "ln1=ax1.plot(x[1], y[1],label=legend[1],markersize=4,markevery=30,\\\n",
    "         linestyle=sty[0][0], marker=sty[0][1], color=sty[0][2])\n",
    "ln2=ax2.plot(x[2], y[2],label=legend[2],markersize=4,markevery=30,\\\n",
    "         linestyle=sty[1][0], marker=sty[1][1], color=sty[1][2])\n",
    "ln3=ax1.plot(x[44], y[44],label=legend[44],markersize=4,markevery=30,\\\n",
    "         linestyle=sty[2][0], marker=sty[2][1], color=sty[2][2])\n",
    "ln4=ax2.plot(x[45], y[45],label=legend[45],markersize=4,markevery=30,\\\n",
    "         linestyle=sty[3][0], marker=sty[3][1], color=sty[3][2])\n",
    "lns = ln1+ln2+ln3+ln4\n",
    "labs = [l.get_label() for l in lns]\n",
    "ax1.legend(lns, labs, loc=0)\n",
    "ax1.set_xlabel(r\"$R/Mm$\")\n",
    "ax1.set_ylabel(r\"$P_{rad}/P$\")\n",
    "ax2.set_ylabel(r\"$c_p$\")\n",
    "os.chdir(origdir)\n",
    "plt.savefig('Pradf'+'.pdf')"
   ]
  },
  {
   "cell_type": "code",
   "execution_count": 108,
   "metadata": {},
   "outputs": [
    {
     "data": {
      "application/vnd.jupyter.widget-view+json": {
       "model_id": "",
       "version_major": 2,
       "version_minor": 0
      },
      "text/plain": [
       "Canvas(toolbar=Toolbar(toolitems=[('Home', 'Reset original view', 'home', 'home'), ('Back', 'Back to previous …"
      ]
     },
     "metadata": {},
     "output_type": "display_data"
    },
    {
     "name": "stdout",
     "output_type": "stream",
     "text": [
      "/user/dataA_rpod4/Huaqing/ppmstar/projects/H-core-M25/analysis_Prad-runs\n"
     ]
    }
   ],
   "source": [
    "sty=style_gen()\n",
    "fig, ax1 = plt.subplots()\n",
    "fig.set_tight_layout(True)\n",
    "ax2=ax1.twinx()\n",
    "plt.ticklabel_format(axis=\"y\", style=\"sci\", scilimits=(0,0))\n",
    "ln1=ax1.plot(x[16], y[16],label=legend[16],markersize=4,markevery=30,\\\n",
    "         linestyle=sty[0][0], marker=sty[0][1], color=sty[0][2])\n",
    "ln2=ax1.plot(x[17], y[17],label=legend[17],markersize=4,markevery=30,\\\n",
    "         linestyle=sty[1][0], marker=sty[1][1], color=sty[1][2])\n",
    "ln3=ax1.plot(x[59], y[59],label=legend[59],markersize=4,markevery=30,\\\n",
    "         linestyle=sty[2][0], marker=sty[2][1], color=sty[2][2])\n",
    "ln4=ax1.plot(x[60], y[60],label=legend[60],markersize=4,markevery=30,\\\n",
    "         linestyle=sty[3][0], marker=sty[3][1], color=sty[3][2])\n",
    "ln5=ax1.plot(x[102], y[102],label=legend[102],markersize=4,markevery=30,\\\n",
    "         linestyle=sty[4][0], marker=sty[4][1], color=sty[4][2])\n",
    "ln6=ax1.plot(x[103], y[103],label=legend[103],markersize=4,markevery=30,\\\n",
    "         linestyle=sty[5][0], marker=sty[5][1], color=sty[5][2])\n",
    "\n",
    "ln7=ax2.plot(x1[0], y1[0],label=legend1[0],markersize=4,markevery=30,\\\n",
    "         linestyle=sty[5][0], marker=sty[6][1], color=sty[6][2])\n",
    "ln8=ax2.plot(x1[1], y1[1],label=legend1[1],markersize=4,markevery=30,\\\n",
    "         linestyle=sty[5][0], marker=sty[7][1], color=sty[7][2])\n",
    "ln9=ax2.plot(x1[2], y1[2],label=legend1[2],markersize=4,markevery=30,\\\n",
    "         linestyle=sty[5][0], marker=sty[8][1], color=sty[8][2])\n",
    "\n",
    "lns = ln1+ln2+ln3+ln4+ln5+ln6+ln7+ln8+ln9\n",
    "labs = [l.get_label() for l in lns]\n",
    "ax1.legend(lns, labs, loc=0,prop={'size': 8},handlelength=4)\n",
    "ax1.set_xlabel(r\"$R/Mm$\")\n",
    "ax1.set_ylabel(r\" $\\frac{dE^{pot,int}_1}{dR}  / (\\mathrm{L \\times time}$)\")\n",
    "ax2.set_ylabel(r\" $\\frac{dE^{kin}}{dR}  / (\\mathrm{L \\times time}$)\")\n",
    "\n",
    "os.chdir(origdir)\n",
    "print(origdir)\n",
    "plt.savefig('1000xht-energy'+'.pdf',bbox_inches = \"tight\")"
   ]
  },
  {
   "cell_type": "code",
   "execution_count": 109,
   "metadata": {},
   "outputs": [
    {
     "data": {
      "application/vnd.jupyter.widget-view+json": {
       "model_id": "",
       "version_major": 2,
       "version_minor": 0
      },
      "text/plain": [
       "Canvas(toolbar=Toolbar(toolitems=[('Home', 'Reset original view', 'home', 'home'), ('Back', 'Back to previous …"
      ]
     },
     "metadata": {},
     "output_type": "display_data"
    },
    {
     "name": "stdout",
     "output_type": "stream",
     "text": [
      "/user/dataA_rpod4/Huaqing/ppmstar/projects/H-core-M25/analysis_Prad-runs\n"
     ]
    }
   ],
   "source": [
    "sty=style_gen()\n",
    "fig, ax1 = plt.subplots()\n",
    "fig.set_tight_layout(True)\n",
    "ln1=ax1.plot(x[18], y[18],label=legend[18],markersize=4,markevery=30,\\\n",
    "         linestyle=sty[0][0], marker=sty[0][1], color=sty[0][2])\n",
    "ln2=ax1.plot(x[61], y[61],label=legend[61],markersize=4,markevery=30,\\\n",
    "         linestyle=sty[0][0], marker=sty[0][1], color=sty[1][2])\n",
    "ln3=ax1.plot(x[104], y[104],label=legend[104],markersize=4,markevery=30,\\\n",
    "         linestyle=sty[0][0], marker=sty[0][1], color=sty[2][2])\n",
    "\n",
    "lns = ln1+ln2+ln3\n",
    "labs = [l.get_label() for l in lns]\n",
    "ax1.legend(lns, labs, loc=0,prop={'size': 8},handlelength=4)\n",
    "ax1.set_xlabel(r\"$R/Mm$\")\n",
    "ax1.set_ylabel(r\" $\\frac{dP}{dR}  / L $\")\n",
    "os.chdir(origdir)\n",
    "print(origdir)\n",
    "plt.savefig('1000xht-Pgrav'+'.pdf',bbox_inches = \"tight\")"
   ]
  },
  {
   "cell_type": "code",
   "execution_count": 110,
   "metadata": {},
   "outputs": [
    {
     "data": {
      "application/vnd.jupyter.widget-view+json": {
       "model_id": "",
       "version_major": 2,
       "version_minor": 0
      },
      "text/plain": [
       "Canvas(toolbar=Toolbar(toolitems=[('Home', 'Reset original view', 'home', 'home'), ('Back', 'Back to previous …"
      ]
     },
     "metadata": {},
     "output_type": "display_data"
    },
    {
     "name": "stdout",
     "output_type": "stream",
     "text": [
      "/user/dataA_rpod4/Huaqing/ppmstar/projects/H-core-M25/analysis_Prad-runs\n"
     ]
    }
   ],
   "source": [
    "sty=style_gen()\n",
    "fig, ax1 = plt.subplots()\n",
    "fig.set_tight_layout(True)\n",
    "ax2 = ax1.twinx()\n",
    "ln1=ax1.plot(x[15], y[15],label=legend[15],markersize=4,markevery=30,\\\n",
    "         linestyle=sty[0][0], marker=sty[0][1], color=sty[0][2])\n",
    "ln2=ax1.plot(x[41], y[41],label=legend[41],markersize=4,markevery=30,\\\n",
    "         linestyle=sty[1][0], marker=sty[1][1], color=sty[1][2])\n",
    "ln3=ax1.plot(x[58], y[58],label=legend[58],markersize=4,markevery=30,\\\n",
    "         linestyle=sty[2][0], marker=sty[2][1], color=sty[2][2])\n",
    "ln4=ax1.plot(x[84], y[84],label=legend[84],markersize=4,markevery=30,\\\n",
    "         linestyle=sty[3][0], marker=sty[3][1], color=sty[3][2])\n",
    "ln5=ax1.plot(x[101], y[101],label=legend[101],markersize=4,markevery=30,\\\n",
    "         linestyle=sty[4][0], marker=sty[4][1], color=sty[4][2])\n",
    "ln6=ax1.plot(x[127], y[127],label=legend[127],markersize=4,markevery=30,\\\n",
    "         linestyle=sty[5][0], marker=sty[5][1], color=sty[5][2])\n",
    "\n",
    "ln7=ax2.plot(x[6], y[6],label=legend[6],markersize=4,markevery=30,\\\n",
    "         linestyle=sty[6][0], marker=sty[6][1], color=sty[6][2])\n",
    "ln8=ax2.plot(x[49], y[49],label=legend[49],markersize=4,markevery=30,\\\n",
    "         linestyle=sty[7][0], marker=sty[7][1], color=sty[7][2])\n",
    "ln9=ax2.plot(x[92], y[92],label=legend[92],markersize=4,markevery=30,\\\n",
    "         linestyle=sty[8][0], marker=sty[8][1], color=sty[8][2])\n",
    "lns = ln1+ln2+ln3+ln4+ln5+ln6+ln7+ln8+ln9\n",
    "labs = [l.get_label() for l in lns]\n",
    "ax1.legend(lns, labs, loc=0,prop={'size': 8},handlelength=4)\n",
    "ax1.set_xlabel(r\"$R/Mm$\")\n",
    "ax1.set_ylabel(r\"perturbation\")\n",
    "ax2.set_ylabel(r\"|U|\")\n",
    "os.chdir(origdir)\n",
    "print(origdir)\n",
    "plt.savefig('1000xht-pert'+'.pdf',bbox_inches = \"tight\")"
   ]
  },
  {
   "cell_type": "code",
   "execution_count": 111,
   "metadata": {},
   "outputs": [
    {
     "data": {
      "application/vnd.jupyter.widget-view+json": {
       "model_id": "",
       "version_major": 2,
       "version_minor": 0
      },
      "text/plain": [
       "Canvas(toolbar=Toolbar(toolitems=[('Home', 'Reset original view', 'home', 'home'), ('Back', 'Back to previous …"
      ]
     },
     "metadata": {},
     "output_type": "display_data"
    }
   ],
   "source": [
    "plt.close()\n",
    "sty=style_gen()\n",
    "plt.figure(dpi=200)\n",
    "plt.grid()\n",
    "#for i,ix in enumerate([27,68,109]):\n",
    "#for i,ix in enumerate([0,41,82]):\n",
    "a=[20,21,22]\n",
    "nvar=43\n",
    "num= len(a)\n",
    "for i in range(0,num):\n",
    "    a.append(a[i]+nvar)\n",
    "    a.append(a[i]+nvar*2)\n",
    "for i,ix in enumerate(a,):\n",
    "    titl=None\n",
    "#        plt.yscale('log')\n",
    "#    plt.xlim(0,2450)\n",
    "    plt.ylim(-0.3,1.3)\n",
    "    line_plot(x[ix],y[ix],titl,xlabel[ix],ylabel[ix],legend[ix],sty[i])\n",
    "\n",
    "os.chdir(origdir)\n",
    "#plt.legend(bbox_to_anchor=(1.04,1), loc=\"upper left\")\n",
    "#plt.legend(bbox_to_anchor=(1.,1),loc='upper left',fontsize=6)\n",
    "plt.legend(loc='upper left',prop={'size': 8},handlelength=4)\n",
    "plt.savefig('1000xht-flux'+'.pdf',bbox_inches = \"tight\")"
   ]
  },
  {
   "cell_type": "code",
   "execution_count": 112,
   "metadata": {},
   "outputs": [
    {
     "data": {
      "application/vnd.jupyter.widget-view+json": {
       "model_id": "",
       "version_major": 2,
       "version_minor": 0
      },
      "text/plain": [
       "Canvas(toolbar=Toolbar(toolitems=[('Home', 'Reset original view', 'home', 'home'), ('Back', 'Back to previous …"
      ]
     },
     "metadata": {},
     "output_type": "display_data"
    },
    {
     "data": {
      "text/plain": [
       "<matplotlib.legend.Legend at 0x7f5c2edd3198>"
      ]
     },
     "execution_count": 112,
     "metadata": {},
     "output_type": "execute_result"
    }
   ],
   "source": [
    "sty=style_gen()\n",
    "plt.figure(dpi=80)\n",
    "plt.grid()\n",
    "#for i,ix in enumerate([27,68,109]):\n",
    "#for i,ix in enumerate([0,41,82]):\n",
    "a=[39]\n",
    "nvar=43\n",
    "num= len(a)\n",
    "for i in range(0,num):\n",
    "    a.append(a[i]+nvar)\n",
    "    a.append(a[i]+nvar*2)\n",
    "for i,ix in enumerate(a,):\n",
    "    titl=None\n",
    "#        plt.yscale('log')\n",
    "#    plt.xlim(0,2450)\n",
    "#    plt.ylim(-0.3,1.4)\n",
    "    line_plot(x[ix],y[ix],titl,xlabel[ix],ylabel[ix],legend[ix],sty[i])\n",
    "\n",
    "os.chdir(origdir)\n",
    "#plt.legend(bbox_to_anchor=(1.04,1), loc=\"upper left\")\n",
    "#plt.legend(bbox_to_anchor=(1.,1),loc='upper left',fontsize=6)\n",
    "plt.legend(loc=0,prop={'size': 7})\n",
    "#plt.savefig('UabsM114-M201'+'.pdf',bbox_inches = \"tight\")"
   ]
  },
  {
   "cell_type": "markdown",
   "metadata": {},
   "source": [
    "# Diffusion comparison: compare N**2, FV, Ut of M201, M204 and M207"
   ]
  },
  {
   "cell_type": "code",
   "execution_count": 170,
   "metadata": {},
   "outputs": [],
   "source": [
    "path1='/home/user/user/frontera_scratch3_mao1'\n",
    "path2='/home/user/user/niagara_scratch_fherwig'\n",
    "runM207='/M207-1000xht-1000xdiff-realEOS-1152'\n",
    "runM204='/M204-1000xht-100xdiff-realEOS-1152'\n",
    "runM201='/M201-1000xht-0xdiff-realEOS-1152'\n",
    "runM114='/M114'\n",
    "runs=[path1+runM201,path1+runM204,path1+runM207]\n",
    "#runs=[path1+runM201,]\n",
    "ieos=[1,1,1,]\n",
    "iraddiff=[0,100,1000,]\n",
    "#iraddiff=[0,0]\n",
    "a=[[0,0,1],[1280,1280,1],[2680,2680,1]]\n",
    "b=[[1400,1400,1],[2800,2800,1]]\n",
    "c=[[2800,2800,1],[4200,4200,1]]\n",
    "dumps=[a,b,c]"
   ]
  },
  {
   "cell_type": "code",
   "execution_count": 171,
   "metadata": {},
   "outputs": [
    {
     "name": "stdout",
     "output_type": "stream",
     "text": [
      "/user/frontera_scratch3_mao1/M207-1000xht-1000xdiff-realEOS-1152/prfs\n",
      "run: M201\n",
      "run: M201\n",
      "time: 0  hours\n",
      "run: M201\n"
     ]
    },
    {
     "name": "stderr",
     "output_type": "stream",
     "text": [
      "/usr/local/lib/python3.6/dist-packages/numpy/lib/function_base.py:1067: RuntimeWarning: divide by zero encountered in true_divide\n",
      "  a = -(dx2)/(dx1 * (dx1 + dx2))\n",
      "/usr/local/lib/python3.6/dist-packages/numpy/lib/function_base.py:1068: RuntimeWarning: divide by zero encountered in true_divide\n",
      "  b = (dx2 - dx1) / (dx1 * dx2)\n",
      "/usr/local/lib/python3.6/dist-packages/numpy/lib/function_base.py:1075: RuntimeWarning: invalid value encountered in add\n",
      "  out[tuple(slice1)] = a * f[tuple(slice2)] + b * f[tuple(slice3)] + c * f[tuple(slice4)]\n",
      "/usr/local/lib/python3.6/dist-packages/numpy/lib/function_base.py:1084: RuntimeWarning: divide by zero encountered in double_scalars\n",
      "  out[tuple(slice1)] = (f[tuple(slice2)] - f[tuple(slice3)]) / dx_0\n",
      "/usr/local/lib/python3.6/dist-packages/numpy/lib/function_base.py:1069: RuntimeWarning: divide by zero encountered in true_divide\n",
      "  c = dx1 / (dx2 * (dx1 + dx2))\n",
      "/usr/local/lib/python3.6/dist-packages/ipykernel_launcher.py:279: RuntimeWarning: invalid value encountered in multiply\n",
      "/usr/local/lib/python3.6/dist-packages/ipykernel_launcher.py:282: RuntimeWarning: invalid value encountered in true_divide\n",
      "/usr/local/lib/python3.6/dist-packages/ipykernel_launcher.py:284: RuntimeWarning: invalid value encountered in true_divide\n",
      "/usr/local/lib/python3.6/dist-packages/ipykernel_launcher.py:290: RuntimeWarning: invalid value encountered in true_divide\n",
      "/usr/local/lib/python3.6/dist-packages/ipykernel_launcher.py:306: RuntimeWarning: invalid value encountered in power\n",
      "/usr/local/lib/python3.6/dist-packages/ipykernel_launcher.py:282: RuntimeWarning: divide by zero encountered in true_divide\n",
      "/usr/local/lib/python3.6/dist-packages/ipykernel_launcher.py:284: RuntimeWarning: divide by zero encountered in true_divide\n",
      "/usr/local/lib/python3.6/dist-packages/ipykernel_launcher.py:290: RuntimeWarning: divide by zero encountered in true_divide\n"
     ]
    },
    {
     "name": "stdout",
     "output_type": "stream",
     "text": [
      "time: 1002  hours\n",
      "run: M201\n",
      "time: 2005  hours\n",
      "run: M204\n",
      "run: M204\n",
      "time: 1002  hours\n",
      "run: M204\n",
      "time: 2005  hours\n",
      "run: M207\n",
      "run: M207\n",
      "time: 2005  hours\n",
      "run: M207\n",
      "time: 3007  hours\n"
     ]
    }
   ],
   "source": [
    "x,xlabel,y,ylabel,legend=compare(runs,ieos,iraddiff,dumps)"
   ]
  },
  {
   "cell_type": "code",
   "execution_count": 172,
   "metadata": {},
   "outputs": [
    {
     "name": "stdout",
     "output_type": "stream",
     "text": [
      "0 $R/\\mathrm{Mm}$ $ \\alpha ^2$ M201 $\\alpha ^2$ 0 hrs\n",
      "1 $R/\\mathrm{Mm}$ $ Prad/P $ M201 $\\Prad/P $ 0 hrs\n",
      "2 $R/\\mathrm{Mm}$ $ cp $ M201 $cp $ 0 hrs\n",
      "3 $R/\\mathrm{Mm}$  entropy M201 $A$ 0 hrs\n",
      "4 $R/\\mathrm{Mm}$  grad FV M201 $grad FV$ 0 hrs\n",
      "5 $R/\\mathrm{Mm}$  grad entropy  M201 $dAdR$ 0 hrs\n",
      "6 $R/\\mathrm{Mm}$  Uabs / Mm/s M201 $Uabs$ 0 hrs\n",
      "7 $R/\\mathrm{Mm}$  FV  M201 $FV$ 0 hrs\n",
      "8 $R/\\mathrm{Mm}$  Ut / Mm/s M201 $Ut$ 0 hrs\n",
      "9 $R/\\mathrm{Mm}$  Ur / Mm/s M201 $Ur$ 0 hrs\n",
      "10 $R/\\mathrm{Mm}$  RhoUr M201 $RhoUr$ 0 hrs\n",
      "11 $R/\\mathrm{Mm}$  delta M201 $delta$ 0 hrs\n",
      "12 $R/\\mathrm{Mm}$  P0lo M201 $P0lo$ 0 hrs\n",
      "13 $R/\\mathrm{Mm}$  Rho0lo M201 $Rho0lo$ 0 hrs\n",
      "14 $R/\\mathrm{Mm}$  P1 M201 $P1$ 0 hrs\n",
      "15 $R/\\mathrm{Mm}$ $\\rho f$ M201 $\\rho f$ 0 hrs\n",
      "16 $R/\\mathrm{Mm}$  $energy  / (\\mathrm{L \\times time}$) M201 $dE^{pot}_1/dR$ 0 hrs\n",
      "17 $R/\\mathrm{Mm}$  $energy  / (\\mathrm{L \\times time}$) M201 $dE^{int}_1/dR$ 0 hrs\n",
      "18 $R/\\mathrm{Mm}$  \\frac{dP}{dR}/ L M201 $4\\pi R^2 \\rho U_R g$\n",
      "19 $R/\\mathrm{Mm}$  power  / L M201 $F^{\\mathrm{kin}}$ 0 hrs\n",
      "20 $R/\\mathrm{Mm}$  power  / L M201 $F_{\\mathrm{conv}}$\n",
      "21 $R/\\mathrm{Mm}$  power  / L M201 $F_{\\mathrm{rad}}$\n",
      "22 $R/\\mathrm{Mm}$  power  / L M201 $F_{\\mathrm{tot}}$\n",
      "23 $R/\\mathrm{Mm}$  cappa M201 $cappa$ 0 hrs\n",
      "24 $R/\\mathrm{Mm}$  power M201 RhoUrH 0 hrs\n",
      "25 $R/\\mathrm{Mm}$ derivative M201 $\\nabla_{star}$ 0 hrs\n",
      "26 $R/\\mathrm{Mm}$  derivative M201 $\\nabla_{rad}$ 0 hrs\n",
      "27 $R/\\mathrm{Mm}$  derivative M201 $\\nabla_{ad}$ 0 hrs\n",
      "28 $R/\\mathrm{Mm}$  derivative M201 superadiabat 0 hrs\n",
      "29 $R/\\mathrm{Mm}$  derivative M201 Ledoux: 0 hrs\n",
      "30 $R/\\mathrm{Mm}$  derivative M201 supad fraction: 0 hrs\n",
      "31 $R/\\mathrm{Mm}$  $\\alpha^2 $ M201 $\\alpha^2 $ 0 hrs\n",
      "32 $R/\\mathrm{Mm}$  $N^2/Hz^2$ M201 $N^2$ 0 hrs\n",
      "33 $R/\\mathrm{Mm}$  $N^2/Hz^2$ M201 $N_t^2$ 0 hrs\n",
      "34 $R/\\mathrm{Mm}$  $N^2/Hz^2$ M201 $N_{\\mu}^2$ 0 hrs\n",
      "35 $R/\\mathrm{Mm}$  Ulmsq M201 Ulmsq 0 hrs\n",
      "36 $R/\\mathrm{Mm}$  $Hp0lo$ M201 $Hp$ 0 hrs\n",
      "37 $R/\\mathrm{Mm}$  $g0lo$ M201 $g0lo$ 0 hrs\n",
      "38 $R/\\mathrm{Mm}$  $m/M_{sun}$ M201 $m/M_{sun}$ 0 hrs\n",
      "39 $R/\\mathrm{Mm}$  $g$ M201 $g$ 0 hrs\n",
      "40 $R/\\mathrm{Mm}$  $lph$ M201 $lph$ 0 hrs\n",
      "41 $R/\\mathrm{Mm}$  $\\epsilon f$ M201 $\\epsilon f$ 0 hrs\n",
      "42 $R/\\mathrm{Mm}$  $\\alpha^2$ dereived from flux M201 $\\alpha^2$ derived from flux 0 hrs\n",
      "43 $R/\\mathrm{Mm}$ $ \\alpha ^2$ M201 $\\alpha ^2$ 1002 hrs\n",
      "44 $R/\\mathrm{Mm}$ $ Prad/P $ M201 $\\Prad/P $ 1002 hrs\n",
      "45 $R/\\mathrm{Mm}$ $ cp $ M201 $cp $ 1002 hrs\n",
      "/user/dataA_rpod4/Huaqing/ppmstar/projects/H-core-M25/analysis_Prad-runs\n"
     ]
    }
   ],
   "source": [
    "for i in range(0,46):\n",
    "    print(i,xlabel[i],ylabel[i],str(legend[i]))\n",
    "for i in range(0,len(xlabel1)):\n",
    "    x.append(x1[i])\n",
    "    xlabel.append(xlabel1[i])\n",
    "    y.append(y1[i])\n",
    "    ylabel.append(ylabel1[i])\n",
    "    legend.append(legend1[i])\n",
    "print(origdir)"
   ]
  },
  {
   "cell_type": "code",
   "execution_count": 173,
   "metadata": {},
   "outputs": [],
   "source": [
    "def line_plot(x,y,title,xlabel,ylabel,lab,sty):\n",
    "    if title!=None:\n",
    "        plt.title(title)\n",
    "    plt.xlabel(xlabel)\n",
    "    plt.ylabel(ylabel)\n",
    "    plt.plot(x,y,label=lab,markersize=6,markevery=5,linestyle=sty[0], marker=sty[1], color=sty[2])\n",
    "    plt.legend(loc='upper left')        \n",
    "    return 0"
   ]
  },
  {
   "cell_type": "code",
   "execution_count": 175,
   "metadata": {},
   "outputs": [
    {
     "name": "stderr",
     "output_type": "stream",
     "text": [
      "/usr/local/lib/python3.6/dist-packages/ipykernel_launcher.py:2: RuntimeWarning: More than 20 figures have been opened. Figures created through the pyplot interface (`matplotlib.pyplot.figure`) are retained until explicitly closed and may consume too much memory. (To control this warning, see the rcParam `figure.max_open_warning`).\n",
      "  \n"
     ]
    },
    {
     "data": {
      "application/vnd.jupyter.widget-view+json": {
       "model_id": "",
       "version_major": 2,
       "version_minor": 0
      },
      "text/plain": [
       "Canvas(toolbar=Toolbar(toolitems=[('Home', 'Reset original view', 'home', 'home'), ('Back', 'Back to previous …"
      ]
     },
     "metadata": {},
     "output_type": "display_data"
    },
    {
     "data": {
      "text/plain": [
       "<matplotlib.legend.Legend at 0x7f5c2e1f4cc0>"
      ]
     },
     "execution_count": 175,
     "metadata": {},
     "output_type": "execute_result"
    }
   ],
   "source": [
    "sty=style_gen()\n",
    "plt.figure(dpi=100)\n",
    "plt.grid()\n",
    "#for i,ix in enumerate([27,68,109]):\n",
    "#for i,ix in enumerate([0,41,82]):\n",
    "a=[32+43*i for i in range(7)]\n",
    "nvar=43\n",
    "num= len(a)\n",
    "for i,ix in enumerate(a,):\n",
    "    titl=None\n",
    "#        plt.yscale('log')\n",
    "    plt.xlim(1450,1580)\n",
    "#    plt.ylim(-0.3,1.4)\n",
    "    line_plot(x[ix],y[ix],titl,xlabel[ix],ylabel[ix],legend[ix],sty[i+3])\n",
    "os.chdir(origdir)\n",
    "#plt.legend(bbox_to_anchor=(1.04,1), loc=\"upper left\")\n",
    "#plt.legend(bbox_to_anchor=(1.,1),loc='upper left',fontsize=6)\n",
    "plt.legend(loc=\"upper left\",prop={'size': 7},handlelength=5)\n",
    "#plt.savefig('Prad-1000xht-Krange-N2'+'.pdf',bbox_inches = \"tight\")"
   ]
  },
  {
   "cell_type": "code",
   "execution_count": 176,
   "metadata": {},
   "outputs": [
    {
     "name": "stderr",
     "output_type": "stream",
     "text": [
      "/usr/local/lib/python3.6/dist-packages/ipykernel_launcher.py:2: RuntimeWarning: More than 20 figures have been opened. Figures created through the pyplot interface (`matplotlib.pyplot.figure`) are retained until explicitly closed and may consume too much memory. (To control this warning, see the rcParam `figure.max_open_warning`).\n",
      "  \n"
     ]
    },
    {
     "data": {
      "application/vnd.jupyter.widget-view+json": {
       "model_id": "",
       "version_major": 2,
       "version_minor": 0
      },
      "text/plain": [
       "Canvas(toolbar=Toolbar(toolitems=[('Home', 'Reset original view', 'home', 'home'), ('Back', 'Back to previous …"
      ]
     },
     "metadata": {},
     "output_type": "display_data"
    }
   ],
   "source": [
    "sty=style_gen()\n",
    "plt.figure(dpi=80)\n",
    "plt.grid()\n",
    "#for i,ix in enumerate([27,68,109]):\n",
    "#for i,ix in enumerate([0,41,82]):\n",
    "a=[7+43*i for i in range(7)]\n",
    "nvar=43\n",
    "num= len(a)\n",
    "for i,ix in enumerate(a,):\n",
    "    titl=None\n",
    "#        plt.yscale('log')\n",
    "    plt.xlim(1460,1560)\n",
    "#    plt.ylim(-0.3,1.4)\n",
    "    line_plot(x[ix],y[ix],titl,xlabel[ix],ylabel[ix],legend[ix],sty[i+2])\n",
    "os.chdir(origdir)\n",
    "#plt.legend(bbox_to_anchor=(1.04,1), loc=\"upper left\")\n",
    "#plt.legend(bbox_to_anchor=(1.,1),loc='upper left',fontsize=6)\n",
    "plt.legend(loc=0,prop={'size': 7},handlelength=5)\n",
    "plt.savefig('Prad-1000xht-Krange-FV'+'.pdf',bbox_inches = \"tight\")"
   ]
  },
  {
   "cell_type": "code",
   "execution_count": 177,
   "metadata": {},
   "outputs": [],
   "source": [
    "def line_plot(x,y,title,xlabel,ylabel,lab,sty):\n",
    "    if title!=None:\n",
    "        plt.title(title)\n",
    "    plt.xlabel(xlabel)\n",
    "    plt.ylabel(ylabel)\n",
    "    plt.plot(x,y,label=lab,markersize=6,markevery=30,linestyle=sty[0], marker=sty[1], color=sty[2])\n",
    "    plt.legend(loc='upper left')        \n",
    "    return 0"
   ]
  },
  {
   "cell_type": "code",
   "execution_count": 178,
   "metadata": {},
   "outputs": [
    {
     "name": "stderr",
     "output_type": "stream",
     "text": [
      "/usr/local/lib/python3.6/dist-packages/ipykernel_launcher.py:2: RuntimeWarning: More than 20 figures have been opened. Figures created through the pyplot interface (`matplotlib.pyplot.figure`) are retained until explicitly closed and may consume too much memory. (To control this warning, see the rcParam `figure.max_open_warning`).\n",
      "  \n"
     ]
    },
    {
     "data": {
      "application/vnd.jupyter.widget-view+json": {
       "model_id": "",
       "version_major": 2,
       "version_minor": 0
      },
      "text/plain": [
       "Canvas(toolbar=Toolbar(toolitems=[('Home', 'Reset original view', 'home', 'home'), ('Back', 'Back to previous …"
      ]
     },
     "metadata": {},
     "output_type": "display_data"
    },
    {
     "data": {
      "text/plain": [
       "<matplotlib.legend.Legend at 0x7f5c2d50f080>"
      ]
     },
     "execution_count": 178,
     "metadata": {},
     "output_type": "execute_result"
    }
   ],
   "source": [
    "sty=style_gen()\n",
    "plt.figure(dpi=100)\n",
    "plt.grid()\n",
    "#for i,ix in enumerate([27,68,109]):\n",
    "#for i,ix in enumerate([0,41,82]):\n",
    "a=[8+43*i for i in range(7)]\n",
    "nvar=43\n",
    "num= len(a)\n",
    "for i,ix in enumerate(a,):\n",
    "    titl=None\n",
    "#        plt.yscale('log')\n",
    "#    plt.xlim(1450,1600)\n",
    "#    plt.ylim(-0.3,1.4)\n",
    "    line_plot(x[ix],y[ix],titl,xlabel[ix],ylabel[ix],legend[ix],sty[i+2])\n",
    "os.chdir(origdir)\n",
    "#plt.legend(bbox_to_anchor=(1.04,1), loc=\"upper left\")\n",
    "#plt.legend(bbox_to_anchor=(1.,1),loc='upper left',fontsize=6)\n",
    "plt.legend(loc=0,prop={'size': 7},handlelength=5)\n",
    "#plt.savefig('Prad-1000xht-Krange-Ut'+'.pdf',bbox_inches = \"tight\")"
   ]
  },
  {
   "cell_type": "markdown",
   "metadata": {},
   "source": [
    "# Luminosity comparison: compare N**2, FV, Ut of M212, M207, M208 and M209"
   ]
  },
  {
   "cell_type": "code",
   "execution_count": 181,
   "metadata": {},
   "outputs": [],
   "source": [
    "path1='/home/user/user/frontera_scratch3_mao1'\n",
    "path2='/home/user/user/niagara_scratch_fherwig'\n",
    "runM207='/M207-1000xht-1000xdiff-realEOS-1152'\n",
    "runM208='/M208-100xht-100xdiff-realEOS-1152'\n",
    "runM212='/M212-31.62xht-31.62xdiff-realEOS-1152'\n",
    "runM209='/M209-3162.3xht-3162.3xdiff-realEOS-1152'\n",
    "runM253='/M253-100x-896-fixKappa' \n",
    "runM114='/M114'\n",
    "runs=[path1+runM212,path1+runM208,path1+runM207,path1+runM209,path1+runM253]\n",
    "ieos=[1,1,1,1,1,]\n",
    "iraddiff=[31.62,1000,100,3162.3,100.]\n",
    "a=[[0,0,1],[700,700,1],[1540,1540,1]]\n",
    "b=[[1350,1350,1],[2180,2180,1]]\n",
    "c=[[1400,1400,1],[3100,3100,1]]\n",
    "d=[[1350,1350,1]]\n",
    "e=[[1150,1150,1]]\n",
    "dumps=[a,b,c,d,e]"
   ]
  },
  {
   "cell_type": "code",
   "execution_count": 182,
   "metadata": {},
   "outputs": [
    {
     "name": "stdout",
     "output_type": "stream",
     "text": [
      "/user/frontera_scratch3_mao1/M253-100x-896-fixKappa/prfs\n",
      "run: M212\n",
      "run: M212\n",
      "time: 0  hours\n",
      "run: M212\n"
     ]
    },
    {
     "name": "stderr",
     "output_type": "stream",
     "text": [
      "/usr/local/lib/python3.6/dist-packages/ipykernel_launcher.py:290: RuntimeWarning: invalid value encountered in true_divide\n",
      "/usr/local/lib/python3.6/dist-packages/ipykernel_launcher.py:306: RuntimeWarning: invalid value encountered in power\n",
      "/usr/local/lib/python3.6/dist-packages/ipykernel_launcher.py:290: RuntimeWarning: divide by zero encountered in true_divide\n"
     ]
    },
    {
     "name": "stdout",
     "output_type": "stream",
     "text": [
      "time: 1002  hours\n",
      "run: M212\n",
      "time: 2205  hours\n",
      "run: M208\n",
      "run: M208\n",
      "time: 1016  hours\n",
      "run: M208\n",
      "time: 2205  hours\n",
      "run: M207\n",
      "run: M207\n",
      "time: 1002  hours\n",
      "run: M207\n",
      "time: 2220  hours\n",
      "run: M209\n",
      "run: M209\n",
      "time: 1016  hours\n",
      "run: M253\n",
      "run: M253\n",
      "time: 32943  hours\n"
     ]
    }
   ],
   "source": [
    "x,xlabel,y,ylabel,legend=compare(runs,ieos,iraddiff,dumps)"
   ]
  },
  {
   "cell_type": "code",
   "execution_count": 183,
   "metadata": {},
   "outputs": [
    {
     "name": "stdout",
     "output_type": "stream",
     "text": [
      "0 $R/\\mathrm{Mm}$ $ \\alpha ^2$ M212 $\\alpha ^2$ 0 hrs\n",
      "1 $R/\\mathrm{Mm}$ $ Prad/P $ M212 $\\Prad/P $ 0 hrs\n",
      "2 $R/\\mathrm{Mm}$ $ cp $ M212 $cp $ 0 hrs\n",
      "3 $R/\\mathrm{Mm}$  entropy M212 $A$ 0 hrs\n",
      "4 $R/\\mathrm{Mm}$  grad FV M212 $grad FV$ 0 hrs\n",
      "5 $R/\\mathrm{Mm}$  grad entropy  M212 $dAdR$ 0 hrs\n",
      "6 $R/\\mathrm{Mm}$  Uabs / Mm/s M212 $Uabs$ 0 hrs\n",
      "7 $R/\\mathrm{Mm}$  FV  M212 $FV$ 0 hrs\n",
      "8 $R/\\mathrm{Mm}$  Ut / Mm/s M212 $Ut$ 0 hrs\n",
      "9 $R/\\mathrm{Mm}$  Ur / Mm/s M212 $Ur$ 0 hrs\n",
      "10 $R/\\mathrm{Mm}$  RhoUr M212 $RhoUr$ 0 hrs\n",
      "11 $R/\\mathrm{Mm}$  delta M212 $delta$ 0 hrs\n",
      "12 $R/\\mathrm{Mm}$  P0lo M212 $P0lo$ 0 hrs\n",
      "13 $R/\\mathrm{Mm}$  Rho0lo M212 $Rho0lo$ 0 hrs\n",
      "14 $R/\\mathrm{Mm}$  P1 M212 $P1$ 0 hrs\n",
      "15 $R/\\mathrm{Mm}$ $\\rho f$ M212 $\\rho f$ 0 hrs\n",
      "16 $R/\\mathrm{Mm}$  $energy  / (\\mathrm{L \\times time}$) M212 $dE^{pot}_1/dR$ 0 hrs\n",
      "17 $R/\\mathrm{Mm}$  $energy  / (\\mathrm{L \\times time}$) M212 $dE^{int}_1/dR$ 0 hrs\n",
      "18 $R/\\mathrm{Mm}$  \\frac{dP}{dR}/ L M212 $4\\pi R^2 \\rho U_R g$\n",
      "19 $R/\\mathrm{Mm}$  power  / L M212 $F^{\\mathrm{kin}}$ 0 hrs\n",
      "20 $R/\\mathrm{Mm}$  power  / L M212 $F_{\\mathrm{conv}}$\n",
      "21 $R/\\mathrm{Mm}$  power  / L M212 $F_{\\mathrm{rad}}$\n",
      "22 $R/\\mathrm{Mm}$  power  / L M212 $F_{\\mathrm{tot}}$\n",
      "23 $R/\\mathrm{Mm}$  cappa M212 $cappa$ 0 hrs\n",
      "24 $R/\\mathrm{Mm}$  power M212 RhoUrH 0 hrs\n",
      "25 $R/\\mathrm{Mm}$ derivative M212 $\\nabla_{star}$ 0 hrs\n",
      "26 $R/\\mathrm{Mm}$  derivative M212 $\\nabla_{rad}$ 0 hrs\n",
      "27 $R/\\mathrm{Mm}$  derivative M212 $\\nabla_{ad}$ 0 hrs\n",
      "28 $R/\\mathrm{Mm}$  derivative M212 superadiabat 0 hrs\n",
      "29 $R/\\mathrm{Mm}$  derivative M212 Ledoux: 0 hrs\n",
      "30 $R/\\mathrm{Mm}$  derivative M212 supad fraction: 0 hrs\n",
      "31 $R/\\mathrm{Mm}$  $\\alpha^2 $ M212 $\\alpha^2 $ 0 hrs\n",
      "32 $R/\\mathrm{Mm}$  $N^2/Hz^2$ M212 $N^2$ 0 hrs\n",
      "33 $R/\\mathrm{Mm}$  $N^2/Hz^2$ M212 $N_t^2$ 0 hrs\n",
      "34 $R/\\mathrm{Mm}$  $N^2/Hz^2$ M212 $N_{\\mu}^2$ 0 hrs\n",
      "35 $R/\\mathrm{Mm}$  Ulmsq M212 Ulmsq 0 hrs\n",
      "36 $R/\\mathrm{Mm}$  $Hp0lo$ M212 $Hp$ 0 hrs\n",
      "37 $R/\\mathrm{Mm}$  $g0lo$ M212 $g0lo$ 0 hrs\n",
      "38 $R/\\mathrm{Mm}$  $m/M_{sun}$ M212 $m/M_{sun}$ 0 hrs\n",
      "39 $R/\\mathrm{Mm}$  $g$ M212 $g$ 0 hrs\n",
      "40 $R/\\mathrm{Mm}$  $lph$ M212 $lph$ 0 hrs\n",
      "41 $R/\\mathrm{Mm}$  $\\epsilon f$ M212 $\\epsilon f$ 0 hrs\n",
      "42 $R/\\mathrm{Mm}$  $\\alpha^2$ dereived from flux M212 $\\alpha^2$ derived from flux 0 hrs\n",
      "43 $R/\\mathrm{Mm}$ $ \\alpha ^2$ M212 $\\alpha ^2$ 1002 hrs\n",
      "44 $R/\\mathrm{Mm}$ $ Prad/P $ M212 $\\Prad/P $ 1002 hrs\n",
      "45 $R/\\mathrm{Mm}$ $ cp $ M212 $cp $ 1002 hrs\n",
      "/user/dataA_rpod4/Huaqing/ppmstar/projects/H-core-M25/analysis_Prad-runs\n"
     ]
    }
   ],
   "source": [
    "for i in range(0,46):\n",
    "    print(i,xlabel[i],ylabel[i],str(legend[i]))\n",
    "for i in range(0,len(xlabel1)):\n",
    "    x.append(x1[i])\n",
    "    xlabel.append(xlabel1[i])\n",
    "    y.append(y1[i])\n",
    "    ylabel.append(ylabel1[i])\n",
    "    legend.append(legend1[i])\n",
    "print(origdir)"
   ]
  },
  {
   "cell_type": "code",
   "execution_count": 184,
   "metadata": {},
   "outputs": [],
   "source": [
    "def line_plot(x,y,title,xlabel,ylabel,lab,sty):\n",
    "    if title!=None:\n",
    "        plt.title(title)\n",
    "    plt.xlabel(xlabel)\n",
    "    plt.ylabel(ylabel)\n",
    "    plt.plot(x,y,label=lab,markersize=7,markevery=5,linestyle=sty[0], marker=sty[1], color=sty[2])\n",
    "    plt.legend(loc='upper left')        \n",
    "    return 0"
   ]
  },
  {
   "cell_type": "code",
   "execution_count": 186,
   "metadata": {},
   "outputs": [
    {
     "name": "stderr",
     "output_type": "stream",
     "text": [
      "/usr/local/lib/python3.6/dist-packages/ipykernel_launcher.py:2: RuntimeWarning: More than 20 figures have been opened. Figures created through the pyplot interface (`matplotlib.pyplot.figure`) are retained until explicitly closed and may consume too much memory. (To control this warning, see the rcParam `figure.max_open_warning`).\n",
      "  \n"
     ]
    },
    {
     "data": {
      "application/vnd.jupyter.widget-view+json": {
       "model_id": "",
       "version_major": 2,
       "version_minor": 0
      },
      "text/plain": [
       "Canvas(toolbar=Toolbar(toolitems=[('Home', 'Reset original view', 'home', 'home'), ('Back', 'Back to previous …"
      ]
     },
     "metadata": {},
     "output_type": "display_data"
    }
   ],
   "source": [
    "sty=style_gen()\n",
    "plt.figure(dpi=80)\n",
    "plt.grid()\n",
    "a=[32+43*i for i in range(9)]\n",
    "nvar=43\n",
    "num= len(a)\n",
    "for i,ix in enumerate(a,):\n",
    "    titl=None\n",
    "#        plt.yscale('log')\n",
    "    plt.xlim(1450,1580)\n",
    "    plt.ticklabel_format(style='sci', axis='y', scilimits=(0,0))\n",
    "#    plt.ylim(-0.3,1.4)\n",
    "    line_plot(x[ix],y[ix],titl,xlabel[ix],ylabel[ix],legend[ix],sty[i+1])\n",
    "os.chdir(origdir)\n",
    "#plt.legend(bbox_to_anchor=(1.04,1), loc=\"upper left\")\n",
    "#plt.legend(bbox_to_anchor=(1.,1),loc='upper left',fontsize=6)\n",
    "plt.legend(loc=0,prop={'size': 7},handlelength=5)\n",
    "plt.savefig('Prad-K-L-N2'+'.pdf',bbox_inches = \"tight\")"
   ]
  },
  {
   "cell_type": "code",
   "execution_count": 189,
   "metadata": {},
   "outputs": [
    {
     "name": "stderr",
     "output_type": "stream",
     "text": [
      "/usr/local/lib/python3.6/dist-packages/ipykernel_launcher.py:2: RuntimeWarning: More than 20 figures have been opened. Figures created through the pyplot interface (`matplotlib.pyplot.figure`) are retained until explicitly closed and may consume too much memory. (To control this warning, see the rcParam `figure.max_open_warning`).\n",
      "  \n"
     ]
    },
    {
     "data": {
      "application/vnd.jupyter.widget-view+json": {
       "model_id": "",
       "version_major": 2,
       "version_minor": 0
      },
      "text/plain": [
       "Canvas(toolbar=Toolbar(toolitems=[('Home', 'Reset original view', 'home', 'home'), ('Back', 'Back to previous …"
      ]
     },
     "metadata": {},
     "output_type": "display_data"
    }
   ],
   "source": [
    "sty=style_gen()\n",
    "plt.figure(dpi=80)\n",
    "plt.grid()\n",
    "a=[7+43*i for i in range(9)]\n",
    "nvar=43\n",
    "num= len(a)\n",
    "for i,ix in enumerate(a,):\n",
    "    titl=None\n",
    "#        plt.yscale('log')\n",
    "    plt.xlim(1460,1580)\n",
    "#    plt.ylim(-0.3,1.4)\n",
    "    line_plot(x[ix],y[ix],titl,xlabel[ix],ylabel[ix],legend[ix],sty[i+1])\n",
    "os.chdir(origdir)\n",
    "#plt.legend(bbox_to_anchor=(1.04,1), loc=\"upper left\")\n",
    "#plt.legend(bbox_to_anchor=(1.,1),loc='upper left',fontsize=6)\n",
    "plt.legend(loc=0,prop={'size': 7},handlelength=5)\n",
    "plt.savefig('Prad-K-L-FV'+'.pdf',bbox_inches = \"tight\")"
   ]
  },
  {
   "cell_type": "code",
   "execution_count": 190,
   "metadata": {},
   "outputs": [],
   "source": [
    "def line_plot(x,y,title,xlabel,ylabel,lab,sty):\n",
    "    if title!=None:\n",
    "        plt.title(title)\n",
    "    plt.xlabel(xlabel)\n",
    "    plt.ylabel(ylabel)\n",
    "    plt.plot(x,y,label=lab,markersize=7,markevery=30,linestyle=sty[0], marker=sty[1], color=sty[2])\n",
    "    plt.legend(loc='upper left')        \n",
    "    return 0"
   ]
  },
  {
   "cell_type": "code",
   "execution_count": 192,
   "metadata": {},
   "outputs": [
    {
     "name": "stderr",
     "output_type": "stream",
     "text": [
      "/usr/local/lib/python3.6/dist-packages/ipykernel_launcher.py:2: RuntimeWarning: More than 20 figures have been opened. Figures created through the pyplot interface (`matplotlib.pyplot.figure`) are retained until explicitly closed and may consume too much memory. (To control this warning, see the rcParam `figure.max_open_warning`).\n",
      "  \n"
     ]
    },
    {
     "data": {
      "application/vnd.jupyter.widget-view+json": {
       "model_id": "",
       "version_major": 2,
       "version_minor": 0
      },
      "text/plain": [
       "Canvas(toolbar=Toolbar(toolitems=[('Home', 'Reset original view', 'home', 'home'), ('Back', 'Back to previous …"
      ]
     },
     "metadata": {},
     "output_type": "display_data"
    }
   ],
   "source": [
    "sty=style_gen()\n",
    "plt.figure(dpi=80)\n",
    "plt.grid()\n",
    "a=[8+43*i for i in range(9)]\n",
    "nvar=43\n",
    "num= len(a)\n",
    "for i,ix in enumerate(a,):\n",
    "    titl=None\n",
    "#        plt.yscale('log')\n",
    "#    plt.xlim(1450,1600)\n",
    "#    plt.ylim(-0.3,1.4)\n",
    "    line_plot(x[ix],y[ix],titl,xlabel[ix],ylabel[ix],legend[ix],sty[i+1])\n",
    "os.chdir(origdir)\n",
    "#plt.legend(bbox_to_anchor=(1.04,1), loc=\"upper left\")\n",
    "#plt.legend(bbox_to_anchor=(1.,1),loc='upper left',fontsize=6)\n",
    "plt.legend(loc=0,prop={'size': 7},handlelength=5)\n",
    "plt.savefig('Prad-K-L-Ut'+'.pdf',bbox_inches = \"tight\")"
   ]
  },
  {
   "cell_type": "markdown",
   "metadata": {},
   "source": [
    "Compare N**2, FV, Ut of M213, M207 and M210"
   ]
  },
  {
   "cell_type": "code",
   "execution_count": 143,
   "metadata": {},
   "outputs": [],
   "source": [
    "path1='/home/user/user/frontera_scratch3_mao1'\n",
    "path2='/home/user/user/frontera_scratch3_pwoodwar'\n",
    "runM207='/M207-1000xht-1000xdiff-realEOS-1152'\n",
    "runM213='/M213-1000xht-1000xdiff-realEOS-768'\n",
    "runM210='/M210-1000xht-1000xdiff-realEOS-1728'\n",
    "runM284='/M284-2688-Gauss3.5-48MmFWHM-realEOS-1000xhtdiff'\n",
    "runs=[path1+runM213,path1+runM207,path1+runM210,path2+runM284]\n",
    "ieos=[1,1,1,1,]\n",
    "iraddiff=[1000,1000,1000,1000]\n",
    "a=[[0,0,1],[4940,4940,1]]\n",
    "b=[[4800,4800,1]]\n",
    "c=[[300,300,1],[710,710,1]]\n",
    "dumps=[a,b,b,c]"
   ]
  },
  {
   "cell_type": "code",
   "execution_count": 144,
   "metadata": {},
   "outputs": [
    {
     "name": "stdout",
     "output_type": "stream",
     "text": [
      "/user/dataA_rpod4/Huaqing/ppmstar/projects/H-core-M25/analysis_Prad-runs\n",
      "run: M213\n",
      "run: M213\n",
      "time: 0  hours\n",
      "run: M213\n"
     ]
    },
    {
     "name": "stderr",
     "output_type": "stream",
     "text": [
      "/usr/local/lib/python3.6/dist-packages/ipykernel_launcher.py:290: RuntimeWarning: invalid value encountered in true_divide\n",
      "/usr/local/lib/python3.6/dist-packages/ipykernel_launcher.py:306: RuntimeWarning: invalid value encountered in power\n",
      "/usr/local/lib/python3.6/dist-packages/ipykernel_launcher.py:290: RuntimeWarning: divide by zero encountered in true_divide\n"
     ]
    },
    {
     "name": "stdout",
     "output_type": "stream",
     "text": [
      "time: 3537  hours\n",
      "run: M207\n",
      "run: M207\n",
      "time: 3437  hours\n",
      "run: M210\n",
      "run: M210\n",
      "time: 3437  hours\n",
      "run: M284\n"
     ]
    },
    {
     "name": "stderr",
     "output_type": "stream",
     "text": [
      "/usr/local/lib/python3.6/dist-packages/ipykernel_launcher.py:54: RuntimeWarning: divide by zero encountered in true_divide\n",
      "/usr/local/lib/python3.6/dist-packages/numpy/lib/function_base.py:1067: RuntimeWarning: divide by zero encountered in true_divide\n",
      "  a = -(dx2)/(dx1 * (dx1 + dx2))\n",
      "/usr/local/lib/python3.6/dist-packages/numpy/lib/function_base.py:1068: RuntimeWarning: divide by zero encountered in true_divide\n",
      "  b = (dx2 - dx1) / (dx1 * dx2)\n",
      "/usr/local/lib/python3.6/dist-packages/numpy/lib/function_base.py:1069: RuntimeWarning: divide by zero encountered in true_divide\n",
      "  c = dx1 / (dx2 * (dx1 + dx2))\n",
      "/usr/local/lib/python3.6/dist-packages/numpy/lib/function_base.py:1075: RuntimeWarning: invalid value encountered in add\n",
      "  out[tuple(slice1)] = a * f[tuple(slice2)] + b * f[tuple(slice3)] + c * f[tuple(slice4)]\n"
     ]
    },
    {
     "name": "stdout",
     "output_type": "stream",
     "text": [
      "run: M284\n",
      "time: 1432  hours\n",
      "run: M284\n",
      "time: 3389  hours\n"
     ]
    }
   ],
   "source": [
    "x,xlabel,y,ylabel,legend=compare(runs,ieos,iraddiff,dumps)"
   ]
  },
  {
   "cell_type": "code",
   "execution_count": 145,
   "metadata": {},
   "outputs": [
    {
     "name": "stdout",
     "output_type": "stream",
     "text": [
      "0 $R/\\mathrm{Mm}$ $ \\alpha ^2$ M213 $\\alpha ^2$ 0 hrs\n",
      "1 $R/\\mathrm{Mm}$ $ Prad/P $ M213 $\\Prad/P $ 0 hrs\n",
      "2 $R/\\mathrm{Mm}$ $ cp $ M213 $cp $ 0 hrs\n",
      "3 $R/\\mathrm{Mm}$  entropy M213 $A$ 0 hrs\n",
      "4 $R/\\mathrm{Mm}$  grad FV M213 $grad FV$ 0 hrs\n",
      "5 $R/\\mathrm{Mm}$  grad entropy  M213 $dAdR$ 0 hrs\n",
      "6 $R/\\mathrm{Mm}$  Uabs / Mm/s M213 $Uabs$ 0 hrs\n",
      "7 $R/\\mathrm{Mm}$  FV  M213 $FV$ 0 hrs\n",
      "8 $R/\\mathrm{Mm}$  Ut / Mm/s M213 $Ut$ 0 hrs\n",
      "9 $R/\\mathrm{Mm}$  Ur / Mm/s M213 $Ur$ 0 hrs\n",
      "10 $R/\\mathrm{Mm}$  RhoUr M213 $RhoUr$ 0 hrs\n",
      "11 $R/\\mathrm{Mm}$  delta M213 $delta$ 0 hrs\n",
      "12 $R/\\mathrm{Mm}$  P0lo M213 $P0lo$ 0 hrs\n",
      "13 $R/\\mathrm{Mm}$  Rho0lo M213 $Rho0lo$ 0 hrs\n",
      "14 $R/\\mathrm{Mm}$  P1 M213 $P1$ 0 hrs\n",
      "15 $R/\\mathrm{Mm}$ $\\rho f$ M213 $\\rho f$ 0 hrs\n",
      "16 $R/\\mathrm{Mm}$  $energy  / (\\mathrm{L \\times time}$) M213 $dE^{pot}_1/dR$ 0 hrs\n",
      "17 $R/\\mathrm{Mm}$  $energy  / (\\mathrm{L \\times time}$) M213 $dE^{int}_1/dR$ 0 hrs\n",
      "18 $R/\\mathrm{Mm}$  \\frac{dP}{dR}/ L M213 $4\\pi R^2 \\rho U_R g$\n",
      "19 $R/\\mathrm{Mm}$  power  / L M213 $F^{\\mathrm{kin}}$ 0 hrs\n",
      "20 $R/\\mathrm{Mm}$  power  / L M213 $F_{\\mathrm{conv}}$\n",
      "21 $R/\\mathrm{Mm}$  power  / L M213 $F_{\\mathrm{rad}}$\n",
      "22 $R/\\mathrm{Mm}$  power  / L M213 $F_{\\mathrm{tot}}$\n",
      "23 $R/\\mathrm{Mm}$  cappa M213 $cappa$ 0 hrs\n",
      "24 $R/\\mathrm{Mm}$  power M213 RhoUrH 0 hrs\n",
      "25 $R/\\mathrm{Mm}$ derivative M213 $\\nabla_{star}$ 0 hrs\n",
      "26 $R/\\mathrm{Mm}$  derivative M213 $\\nabla_{rad}$ 0 hrs\n",
      "27 $R/\\mathrm{Mm}$  derivative M213 $\\nabla_{ad}$ 0 hrs\n",
      "28 $R/\\mathrm{Mm}$  derivative M213 superadiabat 0 hrs\n",
      "29 $R/\\mathrm{Mm}$  derivative M213 Ledoux: 0 hrs\n",
      "30 $R/\\mathrm{Mm}$  derivative M213 supad fraction: 0 hrs\n",
      "31 $R/\\mathrm{Mm}$  $\\alpha^2 $ M213 $\\alpha^2 $ 0 hrs\n",
      "32 $R/\\mathrm{Mm}$  $N^2/Hz^2$ M213 $N^2$ 0 hrs\n",
      "33 $R/\\mathrm{Mm}$  $N^2/Hz^2$ M213 $N_t^2$ 0 hrs\n",
      "34 $R/\\mathrm{Mm}$  $N^2/Hz^2$ M213 $N_{\\mu}^2$ 0 hrs\n",
      "35 $R/\\mathrm{Mm}$  Ulmsq M213 Ulmsq 0 hrs\n",
      "36 $R/\\mathrm{Mm}$  $Hp0lo$ M213 $Hp$ 0 hrs\n",
      "37 $R/\\mathrm{Mm}$  $g0lo$ M213 $g0lo$ 0 hrs\n",
      "38 $R/\\mathrm{Mm}$  $m/M_{sun}$ M213 $m/M_{sun}$ 0 hrs\n",
      "39 $R/\\mathrm{Mm}$  $g$ M213 $g$ 0 hrs\n",
      "40 $R/\\mathrm{Mm}$  $lph$ M213 $lph$ 0 hrs\n",
      "41 $R/\\mathrm{Mm}$  $\\epsilon f$ M213 $\\epsilon f$ 0 hrs\n",
      "42 $R/\\mathrm{Mm}$  $\\alpha^2$ dereived from flux M213 $\\alpha^2$ derived from flux 0 hrs\n",
      "43 $R/\\mathrm{Mm}$ $ \\alpha ^2$ M213 $\\alpha ^2$ 3537 hrs\n",
      "44 $R/\\mathrm{Mm}$ $ Prad/P $ M213 $\\Prad/P $ 3537 hrs\n",
      "45 $R/\\mathrm{Mm}$ $ cp $ M213 $cp $ 3537 hrs\n",
      "/user/dataA_rpod4/Huaqing/ppmstar/projects/H-core-M25/analysis_Prad-runs\n"
     ]
    }
   ],
   "source": [
    "for i in range(0,46):\n",
    "    print(i,xlabel[i],ylabel[i],str(legend[i]))\n",
    "for i in range(0,len(xlabel1)):\n",
    "    x.append(x1[i])\n",
    "    xlabel.append(xlabel1[i])\n",
    "    y.append(y1[i])\n",
    "    ylabel.append(ylabel1[i])\n",
    "    legend.append(legend1[i])\n",
    "print(origdir)"
   ]
  },
  {
   "cell_type": "code",
   "execution_count": 146,
   "metadata": {},
   "outputs": [],
   "source": [
    "def line_plot(x,y,title,xlabel,ylabel,lab,sty):\n",
    "    if title!=None:\n",
    "        plt.title(title)\n",
    "    plt.xlabel(xlabel)\n",
    "    plt.ylabel(ylabel)\n",
    "    plt.plot(x,y,label=lab,markersize=6,markevery=5,linestyle=sty[0], marker=sty[1], color=sty[2])\n",
    "    plt.legend(loc='upper left')        \n",
    "    return 0"
   ]
  },
  {
   "cell_type": "code",
   "execution_count": 148,
   "metadata": {},
   "outputs": [
    {
     "data": {
      "application/vnd.jupyter.widget-view+json": {
       "model_id": "",
       "version_major": 2,
       "version_minor": 0
      },
      "text/plain": [
       "Canvas(toolbar=Toolbar(toolitems=[('Home', 'Reset original view', 'home', 'home'), ('Back', 'Back to previous …"
      ]
     },
     "metadata": {},
     "output_type": "display_data"
    }
   ],
   "source": [
    "sty=style_gen()\n",
    "plt.figure(dpi=80)\n",
    "plt.grid()\n",
    "a=[32+43*i for i in range(6)]\n",
    "nvar=43\n",
    "num= len(a)\n",
    "for i,ix in enumerate(a,):\n",
    "    titl=None\n",
    "#        plt.yscale('log')\n",
    "    plt.xlim(1450,1580)\n",
    "    plt.ticklabel_format(style='sci', axis='y', scilimits=(0,0))\n",
    "#    plt.ylim(-0.3,1.4)\n",
    "    line_plot(x[ix],y[ix],titl,xlabel[ix],ylabel[ix],legend[ix],sty[i])\n",
    "os.chdir(origdir)\n",
    "#plt.legend(bbox_to_anchor=(1.04,1), loc=\"upper left\")\n",
    "#plt.legend(bbox_to_anchor=(1.,1),loc='upper left',fontsize=6)\n",
    "plt.legend(loc=0,prop={'size': 7},handlelength=5)\n",
    "plt.savefig('Prad-1000x-K-L-res-N2'+'.pdf',bbox_inches = \"tight\")"
   ]
  },
  {
   "cell_type": "code",
   "execution_count": 149,
   "metadata": {},
   "outputs": [
    {
     "data": {
      "application/vnd.jupyter.widget-view+json": {
       "model_id": "",
       "version_major": 2,
       "version_minor": 0
      },
      "text/plain": [
       "Canvas(toolbar=Toolbar(toolitems=[('Home', 'Reset original view', 'home', 'home'), ('Back', 'Back to previous …"
      ]
     },
     "metadata": {},
     "output_type": "display_data"
    }
   ],
   "source": [
    "sty=style_gen()\n",
    "plt.figure(dpi=80)\n",
    "plt.grid()\n",
    "a=[7+43*i for i in range(6)]\n",
    "nvar=43\n",
    "num= len(a)\n",
    "for i,ix in enumerate(a,):\n",
    "    titl=None\n",
    "#        plt.yscale('log')\n",
    "    plt.xlim(1460,1560)\n",
    "#    plt.ylim(-0.3,1.4)\n",
    "    line_plot(x[ix],y[ix],titl,xlabel[ix],ylabel[ix],legend[ix],sty[i])\n",
    "os.chdir(origdir)\n",
    "#plt.legend(bbox_to_anchor=(1.04,1), loc=\"upper left\")\n",
    "#plt.legend(bbox_to_anchor=(1.,1),loc='upper left',fontsize=6)\n",
    "plt.legend(loc=0,prop={'size': 7},handlelength=5)\n",
    "plt.savefig('Prad-1000x-K-L-res-FV'+'.pdf',bbox_inches = \"tight\")"
   ]
  },
  {
   "cell_type": "code",
   "execution_count": 150,
   "metadata": {},
   "outputs": [],
   "source": [
    "def line_plot(x,y,title,xlabel,ylabel,lab,sty):\n",
    "    if title!=None:\n",
    "        plt.title(title)\n",
    "    plt.xlabel(xlabel)\n",
    "    plt.ylabel(ylabel)\n",
    "    plt.plot(x,y,label=lab,markersize=6,markevery=30,linestyle=sty[0], marker=sty[1], color=sty[2])\n",
    "    plt.legend(loc='upper left')        \n",
    "    return 0"
   ]
  },
  {
   "cell_type": "code",
   "execution_count": 151,
   "metadata": {},
   "outputs": [
    {
     "name": "stderr",
     "output_type": "stream",
     "text": [
      "/usr/local/lib/python3.6/dist-packages/ipykernel_launcher.py:2: RuntimeWarning: More than 20 figures have been opened. Figures created through the pyplot interface (`matplotlib.pyplot.figure`) are retained until explicitly closed and may consume too much memory. (To control this warning, see the rcParam `figure.max_open_warning`).\n",
      "  \n"
     ]
    },
    {
     "data": {
      "application/vnd.jupyter.widget-view+json": {
       "model_id": "",
       "version_major": 2,
       "version_minor": 0
      },
      "text/plain": [
       "Canvas(toolbar=Toolbar(toolitems=[('Home', 'Reset original view', 'home', 'home'), ('Back', 'Back to previous …"
      ]
     },
     "metadata": {},
     "output_type": "display_data"
    }
   ],
   "source": [
    "sty=style_gen()\n",
    "plt.figure(dpi=80)\n",
    "plt.grid()\n",
    "a=[8+43*i for i in range(6)]\n",
    "nvar=43\n",
    "num= len(a)\n",
    "for i,ix in enumerate(a,):\n",
    "    titl=None\n",
    "#        plt.yscale('log')\n",
    "#    plt.xlim(1450,1600)\n",
    "#    plt.ylim(-0.3,1.4)\n",
    "    line_plot(x[ix],y[ix],titl,xlabel[ix],ylabel[ix],legend[ix],sty[i])\n",
    "os.chdir(origdir)\n",
    "#plt.legend(bbox_to_anchor=(1.04,1), loc=\"upper left\")\n",
    "#plt.legend(bbox_to_anchor=(1.,1),loc='upper left',fontsize=6)\n",
    "plt.legend(loc=0,prop={'size': 7},handlelength=5)\n",
    "plt.savefig('Prad-1000x-K-L-res-Ut'+'.pdf',bbox_inches = \"tight\")"
   ]
  },
  {
   "cell_type": "markdown",
   "metadata": {},
   "source": [
    "## MLT"
   ]
  },
  {
   "cell_type": "markdown",
   "metadata": {},
   "source": [
    "### M201,M204,M207"
   ]
  },
  {
   "cell_type": "code",
   "execution_count": 52,
   "metadata": {},
   "outputs": [],
   "source": [
    "path1='/home/user/user/frontera_scratch3_mao1'\n",
    "path2='/home/user/user/niagara_scratch_fherwig'\n",
    "runM207='/M207-1000xht-1000xdiff-realEOS-1152'\n",
    "runM204='/M204-1000xht-100xdiff-realEOS-1152'\n",
    "runM201='/M201-1000xht-0xdiff-realEOS-1152'\n",
    "runs=[path1+runM201,path1+runM204,path1+runM207]\n",
    "ieos=[1,1,1,]\n",
    "iraddiff=[0,100,1000]\n",
    "a=[[3000,3000,1],]\n",
    "dumps=[a,a,a]"
   ]
  },
  {
   "cell_type": "code",
   "execution_count": 53,
   "metadata": {},
   "outputs": [
    {
     "name": "stdout",
     "output_type": "stream",
     "text": [
      "/user/dataA_rpod4/Huaqing/ppmstar/projects/H-core-M25/analysis_Prad-runs\n",
      "run: M201\n",
      "run: M201\n",
      "time: 2234  hours\n",
      "run: M204\n"
     ]
    },
    {
     "name": "stderr",
     "output_type": "stream",
     "text": [
      "/usr/local/lib/python3.6/dist-packages/ipykernel_launcher.py:282: RuntimeWarning: divide by zero encountered in true_divide\n",
      "/usr/local/lib/python3.6/dist-packages/ipykernel_launcher.py:284: RuntimeWarning: divide by zero encountered in true_divide\n",
      "/usr/local/lib/python3.6/dist-packages/ipykernel_launcher.py:290: RuntimeWarning: divide by zero encountered in true_divide\n",
      "/usr/local/lib/python3.6/dist-packages/ipykernel_launcher.py:306: RuntimeWarning: invalid value encountered in power\n"
     ]
    },
    {
     "name": "stdout",
     "output_type": "stream",
     "text": [
      "run: M204\n",
      "time: 2148  hours\n",
      "run: M207\n",
      "run: M207\n",
      "time: 2148  hours\n"
     ]
    }
   ],
   "source": [
    "x,xlabel,y,ylabel,legend=compare(runs,ieos,iraddiff,dumps)"
   ]
  },
  {
   "cell_type": "code",
   "execution_count": 54,
   "metadata": {},
   "outputs": [
    {
     "name": "stdout",
     "output_type": "stream",
     "text": [
      "0 $R/\\mathrm{Mm}$ $ \\alpha ^2$ M201 $\\alpha ^2$ 2234 hrs\n",
      "1 $R/\\mathrm{Mm}$ $ Prad/P $ M201 $\\Prad/P $ 2234 hrs\n",
      "2 $R/\\mathrm{Mm}$ $ cp $ M201 $cp $ 2234 hrs\n",
      "3 $R/\\mathrm{Mm}$  entropy M201 $A$ 2234 hrs\n",
      "4 $R/\\mathrm{Mm}$  grad FV M201 $grad FV$ 2234 hrs\n",
      "5 $R/\\mathrm{Mm}$  grad entropy  M201 $dAdR$ 2234 hrs\n",
      "6 $R/\\mathrm{Mm}$  Uabs / Mm/s M201 $Uabs$ 2234 hrs\n",
      "7 $R/\\mathrm{Mm}$  FV  M201 $FV$ 2234 hrs\n",
      "8 $R/\\mathrm{Mm}$  Ut / Mm/s M201 $Ut$ 2234 hrs\n",
      "9 $R/\\mathrm{Mm}$  Ur / Mm/s M201 $Ur$ 2234 hrs\n",
      "10 $R/\\mathrm{Mm}$  RhoUr M201 $RhoUr$ 2234 hrs\n",
      "11 $R/\\mathrm{Mm}$  delta M201 $delta$ 2234 hrs\n",
      "12 $R/\\mathrm{Mm}$  P0lo M201 $P0lo$ 2234 hrs\n",
      "13 $R/\\mathrm{Mm}$  Rho0lo M201 $Rho0lo$ 2234 hrs\n",
      "14 $R/\\mathrm{Mm}$  P1 M201 $P1$ 2234 hrs\n",
      "15 $R/\\mathrm{Mm}$ $\\rho f$ M201 $\\rho f$ 2234 hrs\n",
      "16 $R/\\mathrm{Mm}$  $energy  / (\\mathrm{L \\times time}$) M201 $dE^{pot}_1/dR$ 2234 hrs\n",
      "17 $R/\\mathrm{Mm}$  $energy  / (\\mathrm{L \\times time}$) M201 $dE^{int}_1/dR$ 2234 hrs\n",
      "18 $R/\\mathrm{Mm}$  \\frac{dP}{dR}/ L M201 $4\\pi R^2 \\rho U_R g$\n",
      "19 $R/\\mathrm{Mm}$  power  / L M201 $F^{\\mathrm{kin}}$ 2234 hrs\n",
      "20 $R/\\mathrm{Mm}$  power  / L M201 $F_{\\mathrm{conv}}$\n",
      "21 $R/\\mathrm{Mm}$  power  / L M201 $F_{\\mathrm{rad}}$\n",
      "22 $R/\\mathrm{Mm}$  power  / L M201 $F_{\\mathrm{tot}}$\n",
      "23 $R/\\mathrm{Mm}$  cappa M201 $cappa$ 2234 hrs\n",
      "24 $R/\\mathrm{Mm}$  power M201 RhoUrH 2234 hrs\n",
      "25 $R/\\mathrm{Mm}$ derivative M201 $\\nabla_{star}$ 2234 hrs\n",
      "26 $R/\\mathrm{Mm}$  derivative M201 $\\nabla_{rad}$ 2234 hrs\n",
      "27 $R/\\mathrm{Mm}$  derivative M201 $\\nabla_{ad}$ 2234 hrs\n",
      "28 $R/\\mathrm{Mm}$  derivative M201 superadiabat 2234 hrs\n",
      "29 $R/\\mathrm{Mm}$  derivative M201 Ledoux: 2234 hrs\n",
      "30 $R/\\mathrm{Mm}$  derivative M201 supad fraction: 2234 hrs\n",
      "31 $R/\\mathrm{Mm}$  $\\alpha^2 $ M201 $\\alpha^2 $ 2234 hrs\n",
      "32 $R/\\mathrm{Mm}$  $N^2/Hz^2$ M201 $N^2$ 2234 hrs\n",
      "33 $R/\\mathrm{Mm}$  $N^2/Hz^2$ M201 $N_t^2$ 2234 hrs\n",
      "34 $R/\\mathrm{Mm}$  $N^2/Hz^2$ M201 $N_{\\mu}^2$ 2234 hrs\n",
      "35 $R/\\mathrm{Mm}$  Ulmsq M201 Ulmsq 2234 hrs\n",
      "36 $R/\\mathrm{Mm}$  $Hp0lo$ M201 $Hp$ 2234 hrs\n",
      "37 $R/\\mathrm{Mm}$  $g0lo$ M201 $g0lo$ 2234 hrs\n",
      "38 $R/\\mathrm{Mm}$  $m/M_{sun}$ M201 $m/M_{sun}$ 2234 hrs\n",
      "39 $R/\\mathrm{Mm}$  $g$ M201 $g$ 2234 hrs\n",
      "40 $R/\\mathrm{Mm}$  $lph$ M201 $lph$ 2234 hrs\n",
      "41 $R/\\mathrm{Mm}$  $\\epsilon f$ M201 $\\epsilon f$ 2234 hrs\n",
      "42 $R/\\mathrm{Mm}$  $\\alpha^2$ dereived from flux M201 $\\alpha^2$ derived from flux 2234 hrs\n",
      "43 $R/\\mathrm{Mm}$ $ \\alpha ^2$ M204 $\\alpha ^2$ 2148 hrs\n",
      "44 $R/\\mathrm{Mm}$ $ Prad/P $ M204 $\\Prad/P $ 2148 hrs\n",
      "45 $R/\\mathrm{Mm}$ $ cp $ M204 $cp $ 2148 hrs\n",
      "/user/dataA_rpod4/Huaqing/ppmstar/projects/H-core-M25/analysis_Prad-runs\n"
     ]
    }
   ],
   "source": [
    "for i in range(0,46):\n",
    "    print(i,xlabel[i],ylabel[i],str(legend[i]))\n",
    "for i in range(0,len(xlabel1)):\n",
    "    x.append(x1[i])\n",
    "    xlabel.append(xlabel1[i])\n",
    "    y.append(y1[i])\n",
    "    ylabel.append(ylabel1[i])\n",
    "    legend.append(legend1[i])\n",
    "print(origdir)"
   ]
  },
  {
   "cell_type": "code",
   "execution_count": 57,
   "metadata": {},
   "outputs": [
    {
     "data": {
      "application/vnd.jupyter.widget-view+json": {
       "model_id": "2bda98ad62574b41b0bba96b6dc5b16a",
       "version_major": 2,
       "version_minor": 0
      },
      "text/plain": [
       "Canvas(toolbar=Toolbar(toolitems=[('Home', 'Reset original view', 'home', 'home'), ('Back', 'Back to previous …"
      ]
     },
     "metadata": {},
     "output_type": "display_data"
    }
   ],
   "source": [
    "sty=style_gen()\n",
    "plt.figure(dpi=80)\n",
    "plt.grid()\n",
    "a=[28]\n",
    "nvar=43\n",
    "num= len(a)\n",
    "for i in range(0,num):\n",
    "    a.append(a[i]+nvar)\n",
    "    a.append(a[i]+nvar*2)\n",
    "num= len(a)\n",
    "for i,ix in enumerate(a,):\n",
    "    titl=None\n",
    "#        plt.yscale('log')\n",
    "    plt.xlim(0,1580)\n",
    "    plt.ylim(-.004,.008)\n",
    "    line_plot(x[ix],y[ix],titl,xlabel[ix],ylabel[ix],legend[ix],sty[i])\n",
    "os.chdir(origdir)\n",
    "#plt.legend(bbox_to_anchor=(1.04,1), loc=\"upper left\")\n",
    "#plt.legend(bbox_to_anchor=(1.,1),loc='upper left',fontsize=6)\n",
    "plt.legend(bbox_to_anchor =(0.35, 0.95),prop={'size': 7},handlelength=5)\n",
    "os.chdir('/user/dataA_rpod4/Huaqing/ppmstar/projects/H-core-M25/analysis_Prad-runs')\n",
    "plt.savefig('supad'+'.pdf',bbox_inches = \"tight\")"
   ]
  },
  {
   "cell_type": "code",
   "execution_count": 58,
   "metadata": {},
   "outputs": [
    {
     "name": "stderr",
     "output_type": "stream",
     "text": [
      "/usr/local/lib/python3.6/dist-packages/ipykernel_launcher.py:2: RuntimeWarning: More than 20 figures have been opened. Figures created through the pyplot interface (`matplotlib.pyplot.figure`) are retained until explicitly closed and may consume too much memory. (To control this warning, see the rcParam `figure.max_open_warning`).\n",
      "  \n"
     ]
    },
    {
     "data": {
      "application/vnd.jupyter.widget-view+json": {
       "model_id": "b7786f83b51f4cc4929b07f2ba808b8f",
       "version_major": 2,
       "version_minor": 0
      },
      "text/plain": [
       "Canvas(toolbar=Toolbar(toolitems=[('Home', 'Reset original view', 'home', 'home'), ('Back', 'Back to previous …"
      ]
     },
     "metadata": {},
     "output_type": "display_data"
    }
   ],
   "source": [
    "sty=style_gen()\n",
    "plt.figure(dpi=80)\n",
    "plt.grid()\n",
    "a=[0]\n",
    "nvar=43\n",
    "num= len(a)\n",
    "for i in range(0,num):\n",
    "    a.append(a[i]+nvar)\n",
    "    a.append(a[i]+nvar*2)\n",
    "num= len(a)\n",
    "for i,ix in enumerate(a,):\n",
    "    titl=None\n",
    "#        plt.yscale('log')\n",
    "#    plt.xlim(0,1580)\n",
    "#    plt.ylim(-.004,.008)\n",
    "    line_plot(x[ix],y[ix],titl,xlabel[ix],ylabel[ix],legend[ix],sty[i])\n",
    "os.chdir(origdir)\n",
    "#plt.legend(bbox_to_anchor=(1.04,1), loc=\"upper left\")\n",
    "#plt.legend(bbox_to_anchor=(1.,1),loc='upper left',fontsize=6)\n",
    "plt.legend(loc=0,prop={'size': 7})\n",
    "plt.savefig('alphasq'+'.pdf',bbox_inches = \"tight\")"
   ]
  },
  {
   "cell_type": "markdown",
   "metadata": {},
   "source": [
    "### M212,M208,M212"
   ]
  },
  {
   "cell_type": "code",
   "execution_count": 206,
   "metadata": {},
   "outputs": [],
   "source": [
    "path1='/home/user/user/frontera_scratch3_mao1'\n",
    "path2='/home/user/user/niagara_scratch_fherwig'\n",
    "runM212='/M212-31.62xht-31.62xdiff-realEOS-1152'\n",
    "runM208='/M208-100xht-100xdiff-realEOS-1152'\n",
    "runM207='/M207-1000xht-1000xdiff-realEOS-1152'\n",
    "runM209='/M209-3162.3xht-3162.3xdiff-realEOS-1152'\n",
    "runs=[path1+runM212,path1+runM208,path1+runM207,path1+runM209,]\n",
    "ieos=[1,1,1,1,]\n",
    "iraddiff=[31.62,100,1000,3162,]\n",
    "a=[[1590,1590,1]]\n",
    "b=[[2000,2000,1]]\n",
    "c=[[1660,1660,1],]\n",
    "d= [[1000,1000,1],]\n",
    "dumps=[d,a,b,c,]"
   ]
  },
  {
   "cell_type": "code",
   "execution_count": 207,
   "metadata": {},
   "outputs": [
    {
     "name": "stdout",
     "output_type": "stream",
     "text": [
      "/user/dataA_rpod4/Huaqing/ppmstar/projects/H-core-M25/analysis_Prad-runs\n",
      "run: M212\n",
      "run: M212\n",
      "time: 1432  hours\n",
      "run: M208\n"
     ]
    },
    {
     "name": "stderr",
     "output_type": "stream",
     "text": [
      "/usr/local/lib/python3.6/dist-packages/ipykernel_launcher.py:290: RuntimeWarning: divide by zero encountered in true_divide\n"
     ]
    },
    {
     "name": "stdout",
     "output_type": "stream",
     "text": [
      "run: M208\n",
      "time: 1360  hours\n",
      "run: M207\n",
      "run: M207\n",
      "time: 1432  hours\n",
      "run: M209\n",
      "run: M209\n",
      "time: 1460  hours\n"
     ]
    }
   ],
   "source": [
    "x,xlabel,y,ylabel,legend=compare(runs,ieos,iraddiff,dumps)"
   ]
  },
  {
   "cell_type": "code",
   "execution_count": 209,
   "metadata": {},
   "outputs": [
    {
     "name": "stdout",
     "output_type": "stream",
     "text": [
      "0 $R/\\mathrm{Mm}$ $ \\alpha ^2$ M212 $\\alpha ^2$ 1432 hrs\n",
      "1 $R/\\mathrm{Mm}$ $ Prad/P $ M212 $\\Prad/P $ 1432 hrs\n",
      "2 $R/\\mathrm{Mm}$ $ cp $ M212 $cp $ 1432 hrs\n",
      "3 $R/\\mathrm{Mm}$  entropy M212 $A$ 1432 hrs\n",
      "4 $R/\\mathrm{Mm}$  grad FV M212 $grad FV$ 1432 hrs\n",
      "5 $R/\\mathrm{Mm}$  grad entropy  M212 $dAdR$ 1432 hrs\n",
      "6 $R/\\mathrm{Mm}$  Uabs / Mm/s M212 $Uabs$ 1432 hrs\n",
      "7 $R/\\mathrm{Mm}$  FV  M212 $FV$ 1432 hrs\n",
      "8 $R/\\mathrm{Mm}$  Ut / Mm/s M212 $Ut$ 1432 hrs\n",
      "9 $R/\\mathrm{Mm}$  Ur / Mm/s M212 $Ur$ 1432 hrs\n",
      "10 $R/\\mathrm{Mm}$  RhoUr M212 $RhoUr$ 1432 hrs\n",
      "11 $R/\\mathrm{Mm}$  delta M212 $delta$ 1432 hrs\n",
      "12 $R/\\mathrm{Mm}$  P0lo M212 $P0lo$ 1432 hrs\n",
      "13 $R/\\mathrm{Mm}$  Rho0lo M212 $Rho0lo$ 1432 hrs\n",
      "14 $R/\\mathrm{Mm}$  P1 M212 $P1$ 1432 hrs\n",
      "15 $R/\\mathrm{Mm}$ $\\rho f$ M212 $\\rho f$ 1432 hrs\n",
      "16 $R/\\mathrm{Mm}$  $energy  / (\\mathrm{L \\times time}$) M212 $dE^{pot}_1/dR$ 1432 hrs\n",
      "17 $R/\\mathrm{Mm}$  $energy  / (\\mathrm{L \\times time}$) M212 $dE^{int}_1/dR$ 1432 hrs\n",
      "18 $R/\\mathrm{Mm}$  \\frac{dP}{dR}/ L M212 $4\\pi R^2 \\rho U_R g$\n",
      "19 $R/\\mathrm{Mm}$  power  / L M212 $F^{\\mathrm{kin}}$ 1432 hrs\n",
      "20 $R/\\mathrm{Mm}$  power  / L M212 $F_{\\mathrm{conv}}$\n",
      "21 $R/\\mathrm{Mm}$  power  / L M212 $F_{\\mathrm{rad}}$\n",
      "22 $R/\\mathrm{Mm}$  power  / L M212 $F_{\\mathrm{tot}}$\n",
      "23 $R/\\mathrm{Mm}$  cappa M212 $cappa$ 1432 hrs\n",
      "24 $R/\\mathrm{Mm}$  power M212 RhoUrH 1432 hrs\n",
      "25 $R/\\mathrm{Mm}$ derivative M212 $\\nabla_{star}$ 1432 hrs\n",
      "26 $R/\\mathrm{Mm}$  derivative M212 $\\nabla_{rad}$ 1432 hrs\n",
      "27 $R/\\mathrm{Mm}$  derivative M212 $\\nabla_{ad}$ 1432 hrs\n",
      "28 $R/\\mathrm{Mm}$  derivative M212 superadiabat 1432 hrs\n",
      "29 $R/\\mathrm{Mm}$  derivative M212 Ledoux: 1432 hrs\n",
      "30 $R/\\mathrm{Mm}$  derivative M212 supad fraction: 1432 hrs\n",
      "31 $R/\\mathrm{Mm}$  $\\alpha^2 $ M212 $\\alpha^2 $ 1432 hrs\n",
      "32 $R/\\mathrm{Mm}$  $N^2/Hz^2$ M212 $N^2$ 1432 hrs\n",
      "33 $R/\\mathrm{Mm}$  $N^2/Hz^2$ M212 $N_t^2$ 1432 hrs\n",
      "34 $R/\\mathrm{Mm}$  $N^2/Hz^2$ M212 $N_{\\mu}^2$ 1432 hrs\n",
      "35 $R/\\mathrm{Mm}$  Ulmsq M212 Ulmsq 1432 hrs\n",
      "36 $R/\\mathrm{Mm}$  $Hp0lo$ M212 $Hp$ 1432 hrs\n",
      "37 $R/\\mathrm{Mm}$  $g0lo$ M212 $g0lo$ 1432 hrs\n",
      "38 $R/\\mathrm{Mm}$  $m/M_{sun}$ M212 $m/M_{sun}$ 1432 hrs\n",
      "39 $R/\\mathrm{Mm}$  $g$ M212 $g$ 1432 hrs\n",
      "40 $R/\\mathrm{Mm}$  $lph$ M212 $lph$ 1432 hrs\n",
      "41 $R/\\mathrm{Mm}$  $\\epsilon f$ M212 $\\epsilon f$ 1432 hrs\n",
      "42 $R/\\mathrm{Mm}$  $\\alpha^2$ dereived from flux M212 $\\alpha^2$ derived from flux 1432 hrs\n",
      "43 $R/\\mathrm{Mm}$ $ \\alpha ^2$ M208 $\\alpha ^2$ 1360 hrs\n",
      "44 $R/\\mathrm{Mm}$ $ Prad/P $ M208 $\\Prad/P $ 1360 hrs\n",
      "45 $R/\\mathrm{Mm}$ $ cp $ M208 $cp $ 1360 hrs\n",
      "/user/dataA_rpod4/Huaqing/ppmstar/projects/H-core-M25/analysis_Prad-runs\n"
     ]
    }
   ],
   "source": [
    "for i in range(0,46):\n",
    "    print(i,xlabel[i],ylabel[i],str(legend[i]))\n",
    "for i in range(0,len(xlabel1)):\n",
    "    x.append(x1[i])\n",
    "    xlabel.append(xlabel1[i])\n",
    "    y.append(y1[i])\n",
    "    ylabel.append(ylabel1[i])\n",
    "    legend.append(legend1[i])\n",
    "print(origdir)"
   ]
  },
  {
   "cell_type": "code",
   "execution_count": 210,
   "metadata": {},
   "outputs": [
    {
     "name": "stderr",
     "output_type": "stream",
     "text": [
      "/usr/local/lib/python3.6/dist-packages/ipykernel_launcher.py:2: RuntimeWarning: More than 20 figures have been opened. Figures created through the pyplot interface (`matplotlib.pyplot.figure`) are retained until explicitly closed and may consume too much memory. (To control this warning, see the rcParam `figure.max_open_warning`).\n",
      "  \n"
     ]
    },
    {
     "data": {
      "application/vnd.jupyter.widget-view+json": {
       "model_id": "",
       "version_major": 2,
       "version_minor": 0
      },
      "text/plain": [
       "Canvas(toolbar=Toolbar(toolitems=[('Home', 'Reset original view', 'home', 'home'), ('Back', 'Back to previous …"
      ]
     },
     "metadata": {},
     "output_type": "display_data"
    }
   ],
   "source": [
    "sty=style_gen()\n",
    "plt.figure(dpi=80)\n",
    "plt.grid()\n",
    "a=[28]\n",
    "nvar=43\n",
    "num= len(a)\n",
    "for i in range(0,num):\n",
    "    a.append(a[i]+nvar)\n",
    "    a.append(a[i]+nvar*2)\n",
    "    a.append(a[i]+nvar*3)\n",
    "num= len(a)\n",
    "for i,ix in enumerate(a,):\n",
    "    titl=None\n",
    "#        plt.yscale('log')\n",
    "    plt.xlim(0,1580)\n",
    "    plt.ylim(-.001,.002)\n",
    "    line_plot(x[ix],y[ix],titl,xlabel[ix],ylabel[ix],legend[ix],sty[i+2])\n",
    "os.chdir(origdir)\n",
    "#plt.legend(bbox_to_anchor=(1.04,1), loc=\"upper left\")\n",
    "#plt.legend(bbox_to_anchor=(1.,1),loc='upper left',fontsize=6)\n",
    "plt.legend(bbox_to_anchor =(0.35, 0.95),prop={'size': 7})\n",
    "os.chdir('/user/dataA_rpod4/Huaqing/ppmstar/projects/H-core-M25/analysis_Prad-runs')\n",
    "#plt.savefig('supad'+'.pdf',bbox_inches = \"tight\")"
   ]
  },
  {
   "cell_type": "code",
   "execution_count": 211,
   "metadata": {},
   "outputs": [
    {
     "name": "stdout",
     "output_type": "stream",
     "text": [
      "{'brand': 'Ford', 'electric': False, 'year': 1964, 'colors': ['red', 'white', 'blue']}\n"
     ]
    }
   ],
   "source": [
    "thisdict = {\n",
    "  \"brand\": \"Ford\",\n",
    "  \"electric\": False,\n",
    "  \"year\": 1964,\n",
    "  \"colors\": [\"red\", \"white\", \"blue\"]\n",
    "}\n",
    "output = {**thisdict}\n",
    "print(output)"
   ]
  },
  {
   "cell_type": "code",
   "execution_count": 212,
   "metadata": {},
   "outputs": [
    {
     "name": "stdout",
     "output_type": "stream",
     "text": [
      "[0. 0. 0.]\n"
     ]
    }
   ],
   "source": [
    "a=np.zeros(5)\n",
    "print(a[0:3])"
   ]
  },
  {
   "cell_type": "markdown",
   "metadata": {},
   "source": [
    "### M253-100x-896-fixKappa, M207"
   ]
  },
  {
   "cell_type": "code",
   "execution_count": 213,
   "metadata": {},
   "outputs": [],
   "source": [
    "path1='/home/user/user/frontera_scratch3_mao1'\n",
    "path2='/home/user/user/niagara_scratch_fherwig'\n",
    "runM207='/M207-1000xht-1000xdiff-realEOS-1152'\n",
    "runM253='/M253-100x-896-fixKappa'\n",
    "runM252fix='/M252-10000x-896-fixKappa'\n",
    "runM251='/M251-1000x-896'\n",
    "runs=[path1+runM251,path1+runM253]\n",
    "ieos=[1,1,]\n",
    "iraddiff=[1000,100,]\n",
    "a=[[0,0,1],[650,650,1],[850,850,1],[1050,1050,1]]\n",
    "b=[[0,0,1],[650,650,1],[850,850,1],[1050,1050,1]]\n",
    "dumps=[a,b]"
   ]
  },
  {
   "cell_type": "code",
   "execution_count": 419,
   "metadata": {},
   "outputs": [
    {
     "name": "stdout",
     "output_type": "stream",
     "text": [
      "/user/dataA_rpod4/Huaqing/ppmstar/projects/H-core-M25/analysis_Prad-runs\n",
      "run: M251\n",
      "run: M251\n",
      "time: 0  hours\n",
      "run: M251\n"
     ]
    },
    {
     "name": "stderr",
     "output_type": "stream",
     "text": [
      "/usr/local/lib/python3.6/dist-packages/numpy/lib/function_base.py:1067: RuntimeWarning: divide by zero encountered in true_divide\n",
      "  a = -(dx2)/(dx1 * (dx1 + dx2))\n",
      "/usr/local/lib/python3.6/dist-packages/numpy/lib/function_base.py:1067: RuntimeWarning: invalid value encountered in true_divide\n",
      "  a = -(dx2)/(dx1 * (dx1 + dx2))\n",
      "/usr/local/lib/python3.6/dist-packages/numpy/lib/function_base.py:1068: RuntimeWarning: divide by zero encountered in true_divide\n",
      "  b = (dx2 - dx1) / (dx1 * dx2)\n",
      "/usr/local/lib/python3.6/dist-packages/numpy/lib/function_base.py:1068: RuntimeWarning: invalid value encountered in true_divide\n",
      "  b = (dx2 - dx1) / (dx1 * dx2)\n",
      "/usr/local/lib/python3.6/dist-packages/numpy/lib/function_base.py:1069: RuntimeWarning: divide by zero encountered in true_divide\n",
      "  c = dx1 / (dx2 * (dx1 + dx2))\n",
      "/usr/local/lib/python3.6/dist-packages/numpy/lib/function_base.py:1069: RuntimeWarning: invalid value encountered in true_divide\n",
      "  c = dx1 / (dx2 * (dx1 + dx2))\n",
      "/usr/local/lib/python3.6/dist-packages/numpy/lib/function_base.py:1075: RuntimeWarning: invalid value encountered in add\n",
      "  out[tuple(slice1)] = a * f[tuple(slice2)] + b * f[tuple(slice3)] + c * f[tuple(slice4)]\n",
      "/usr/local/lib/python3.6/dist-packages/ipykernel_launcher.py:288: RuntimeWarning: invalid value encountered in true_divide\n"
     ]
    },
    {
     "name": "stdout",
     "output_type": "stream",
     "text": [
      "time: 1862  hours\n",
      "run: M251\n"
     ]
    },
    {
     "name": "stderr",
     "output_type": "stream",
     "text": [
      "/usr/local/lib/python3.6/dist-packages/ipykernel_launcher.py:288: RuntimeWarning: divide by zero encountered in true_divide\n"
     ]
    },
    {
     "name": "stdout",
     "output_type": "stream",
     "text": [
      "time: 2435  hours\n",
      "run: M251\n",
      "time: 3008  hours\n",
      "run: M253\n",
      "run: M253\n",
      "time: 0  hours\n",
      "run: M253\n",
      "time: 18620  hours\n",
      "run: M253\n",
      "time: 24349  hours\n",
      "run: M253\n",
      "time: 30079  hours\n"
     ]
    }
   ],
   "source": [
    "x,xlabel,y,ylabel,legend=compare(runs,ieos,iraddiff,dumps)"
   ]
  },
  {
   "cell_type": "code",
   "execution_count": 422,
   "metadata": {},
   "outputs": [
    {
     "name": "stdout",
     "output_type": "stream",
     "text": [
      "0 $R/\\mathrm{Mm}$ $ \\alpha ^2$ M251 $\\alpha ^2$ 0 hrs\n",
      "1 $R/\\mathrm{Mm}$ $ Prad/P $ M251 $\\Prad/P $ 0 hrs\n",
      "2 $R/\\mathrm{Mm}$ $ cp $ M251 $cp $ 0 hrs\n",
      "3 $R/\\mathrm{Mm}$  entropy M251 $A$ 0 hrs\n",
      "4 $R/\\mathrm{Mm}$  grad FV M251 $grad FV$ 0 hrs\n",
      "5 $R/\\mathrm{Mm}$  grad entropy  M251 $dAdR$ 0 hrs\n",
      "6 $R/\\mathrm{Mm}$  Uabs / Mm/s M251 $Uabs$ 0 hrs\n",
      "7 $R/\\mathrm{Mm}$  FV  M251 $FV$ 0 hrs\n",
      "8 $R/\\mathrm{Mm}$  Ut / Mm/s M251 $Ut$ 0 hrs\n",
      "9 $R/\\mathrm{Mm}$  Ur / Mm/s M251 $Ur$ 0 hrs\n",
      "10 $R/\\mathrm{Mm}$  RhoUr M251 $RhoUr$ 0 hrs\n",
      "11 $R/\\mathrm{Mm}$  delta M251 $delta$ 0 hrs\n",
      "12 $R/\\mathrm{Mm}$  P0lo M251 $P0lo$ 0 hrs\n",
      "13 $R/\\mathrm{Mm}$  Rho0lo M251 $Rho0lo$ 0 hrs\n",
      "14 $R/\\mathrm{Mm}$  P1 M251 $P1$ 0 hrs\n",
      "15 $R/\\mathrm{Mm}$ $\\rho f$ M251 $\\rho f$ 0 hrs\n",
      "16 $R/\\mathrm{Mm}$  $energy  / (\\mathrm{L \\times time}$) M251 $dE^{pot}_1/dR$ 0 hrs\n",
      "17 $R/\\mathrm{Mm}$  $energy  / (\\mathrm{L \\times time}$) M251 $dE^{int}_1/dR$ 0 hrs\n",
      "18 $R/\\mathrm{Mm}$  \\frac{dP}{dR}/ L M251 $4\\pi R^2 \\rho U_R g$\n",
      "19 $R/\\mathrm{Mm}$  power  / L M251 $F^{\\mathrm{kin}}$ 0 hrs\n",
      "20 $R/\\mathrm{Mm}$  power  / L M251 $F_{\\mathrm{conv}}$\n",
      "21 $R/\\mathrm{Mm}$  power  / L M251 $F_{\\mathrm{rad}}$\n",
      "22 $R/\\mathrm{Mm}$  power  / L M251 $F_{\\mathrm{tot}}$\n",
      "23 $R/\\mathrm{Mm}$  cappa M251 $cappa$ 0 hrs\n",
      "24 $R/\\mathrm{Mm}$  power M251 RhoUrH 0 hrs\n",
      "25 $R/\\mathrm{Mm}$ derivative M251 $\\nabla_{star}$ 0 hrs\n",
      "26 $R/\\mathrm{Mm}$  derivative M251 $\\nabla_{rad}$ 0 hrs\n",
      "27 $R/\\mathrm{Mm}$  derivative M251 $\\nabla_{ad}$ 0 hrs\n",
      "28 $R/\\mathrm{Mm}$  derivative M251 superadiabat 0 hrs\n",
      "29 $R/\\mathrm{Mm}$  derivative M251 Ledoux: 0 hrs\n",
      "30 $R/\\mathrm{Mm}$  derivative M251 supad fraction: 0 hrs\n",
      "31 $R/\\mathrm{Mm}$  $\\alpha^2 $ M251 $\\alpha^2 $ 0 hrs\n",
      "32 $R/\\mathrm{Mm}$  $N^2/Hz^2$ M251 $N^2$ 0 hrs\n",
      "33 $R/\\mathrm{Mm}$  $N^2/Hz^2$ M251 $N_t^2$ 0 hrs\n",
      "34 $R/\\mathrm{Mm}$  $N^2/Hz^2$ M251 $N_{\\mu}^2$ 0 hrs\n",
      "35 $R/\\mathrm{Mm}$  Ulmsq M251 Ulmsq 0 hrs\n",
      "36 $R/\\mathrm{Mm}$  $Hp0lo$ M251 $Hp$ 0 hrs\n",
      "37 $R/\\mathrm{Mm}$  $g0lo$ M251 $g0lo$ 0 hrs\n",
      "38 $R/\\mathrm{Mm}$  $m/M_{sun}$ M251 $m/M_{sun}$ 0 hrs\n",
      "39 $R/\\mathrm{Mm}$  $g$ M251 $g$ 0 hrs\n",
      "40 $R/\\mathrm{Mm}$  $lph$ M251 $lph$ 0 hrs\n",
      "41 $R/\\mathrm{Mm}$  $\\epsilon f$ M251 $\\epsilon f$ 0 hrs\n",
      "42 $R/\\mathrm{Mm}$  $\\alpha^2$ dereived from flux M251 $\\alpha^2$ derived from flux 0 hrs\n",
      "/user/dataA_rpod4/Huaqing/ppmstar/projects/H-core-M25/analysis_Prad-runs\n"
     ]
    }
   ],
   "source": [
    "for i in range(0,43):\n",
    "    print(i,xlabel[i],ylabel[i],str(legend[i]))\n",
    "for i in range(0,len(xlabel1)):\n",
    "    x.append(x1[i])\n",
    "    xlabel.append(xlabel1[i])\n",
    "    y.append(y1[i])\n",
    "    ylabel.append(ylabel1[i])\n",
    "    legend.append(legend1[i])\n",
    "print(origdir)"
   ]
  },
  {
   "cell_type": "code",
   "execution_count": 423,
   "metadata": {},
   "outputs": [],
   "source": [
    "def line_plot(x,y,title,xlabel,ylabel,lab,sty):\n",
    "    if title!=None:\n",
    "        plt.title(title)\n",
    "    plt.xlabel(xlabel)\n",
    "    plt.ylabel(ylabel)\n",
    "    plt.plot(x,y,label=lab,markersize=6,markevery=5,linestyle=sty[0], marker=sty[1], color=sty[2])\n",
    "    plt.legend(loc='upper left')        \n",
    "    return 0"
   ]
  },
  {
   "cell_type": "code",
   "execution_count": 424,
   "metadata": {},
   "outputs": [
    {
     "name": "stderr",
     "output_type": "stream",
     "text": [
      "/usr/local/lib/python3.6/dist-packages/ipykernel_launcher.py:2: RuntimeWarning: More than 20 figures have been opened. Figures created through the pyplot interface (`matplotlib.pyplot.figure`) are retained until explicitly closed and may consume too much memory. (To control this warning, see the rcParam `figure.max_open_warning`).\n",
      "  \n"
     ]
    },
    {
     "data": {
      "application/vnd.jupyter.widget-view+json": {
       "model_id": "438258bb7f544101ad295e6a99a4005f",
       "version_major": 2,
       "version_minor": 0
      },
      "text/plain": [
       "Canvas(toolbar=Toolbar(toolitems=[('Home', 'Reset original view', 'home', 'home'), ('Back', 'Back to previous …"
      ]
     },
     "metadata": {},
     "output_type": "display_data"
    }
   ],
   "source": [
    "sty=style_gen()\n",
    "plt.figure(dpi=80)\n",
    "plt.grid()\n",
    "a=[7]\n",
    "nvar=43\n",
    "num= len(a)\n",
    "for i in range(0,num):\n",
    "    for j in range(1,8):\n",
    "        a.append(a[i]+nvar*j)\n",
    "num= len(a)\n",
    "for i,ix in enumerate(a,):\n",
    "    titl=None\n",
    "#        plt.yscale('log')\n",
    "#    plt.xlim(0,2500)\n",
    "#    plt.ylim(-.001,.002)\n",
    "    line_plot(x[ix],y[ix],titl,xlabel[ix],ylabel[ix],legend[ix],sty[i+2])\n",
    "os.chdir(origdir)\n",
    "#plt.legend(bbox_to_anchor=(1.04,1), loc=\"upper left\")\n",
    "#plt.legend(bbox_to_anchor=(1.,1),loc='upper left',fontsize=6)\n",
    "plt.legend(bbox_to_anchor =(0.35, 0.95),prop={'size': 7},handlelength=5)\n",
    "os.chdir('/user/dataA_rpod4/Huaqing/ppmstar/projects/H-core-M25/analysis_Prad-runs')\n",
    "#plt.savefig('M253-FV'+'.pdf',bbox_inches = \"tight\")"
   ]
  },
  {
   "cell_type": "code",
   "execution_count": null,
   "metadata": {},
   "outputs": [],
   "source": []
  }
 ],
 "metadata": {
  "kernelspec": {
   "display_name": "Python 3",
   "language": "python",
   "name": "python3"
  },
  "language_info": {
   "codemirror_mode": {
    "name": "ipython",
    "version": 3
   },
   "file_extension": ".py",
   "mimetype": "text/x-python",
   "name": "python",
   "nbconvert_exporter": "python",
   "pygments_lexer": "ipython3",
   "version": "3.6.8"
  }
 },
 "nbformat": 4,
 "nbformat_minor": 4
}
